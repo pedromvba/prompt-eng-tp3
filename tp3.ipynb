{
 "cells": [
  {
   "cell_type": "markdown",
   "metadata": {},
   "source": [
    "# Teste de Performance 3\n",
    "\n",
    "Engenharia de Prompts para Ciência de Dados\n",
    "\n",
    "Pedro Monteiro Vieira Bayma Azevedo"
   ]
  },
  {
   "cell_type": "markdown",
   "metadata": {},
   "source": [
    "## Imports"
   ]
  },
  {
   "cell_type": "code",
   "execution_count": 23,
   "metadata": {},
   "outputs": [],
   "source": [
    "import os\n",
    "import json\n",
    "import requests\n",
    "from bs4 import BeautifulSoup as bs\n",
    "import google.generativeai as genai \n",
    "import matplotlib.pyplot as plt\n",
    "import seaborn as sns\n",
    "import pandas as pd\n",
    "from dotenv import load_dotenv"
   ]
  },
  {
   "cell_type": "code",
   "execution_count": 11,
   "metadata": {},
   "outputs": [
    {
     "data": {
      "text/plain": [
       "True"
      ]
     },
     "execution_count": 11,
     "metadata": {},
     "output_type": "execute_result"
    }
   ],
   "source": [
    "#loading api key\n",
    "\n",
    "load_dotenv('.env')"
   ]
  },
  {
   "cell_type": "markdown",
   "metadata": {},
   "source": [
    "## Questão 1"
   ]
  },
  {
   "cell_type": "markdown",
   "metadata": {},
   "source": [
    "![Q1](./images/Q1.png)"
   ]
  },
  {
   "cell_type": "markdown",
   "metadata": {},
   "source": [
    "O resultado veio de acordo com o esperado, com uma avaliação neutra, inclusive o teor da frase enviada é bem parecida com os exemplos dados como neutros."
   ]
  },
  {
   "cell_type": "markdown",
   "metadata": {},
   "source": [
    "## Questão 2"
   ]
  },
  {
   "cell_type": "markdown",
   "metadata": {},
   "source": [
    "![Q2](./images/Q2.png)"
   ]
  },
  {
   "cell_type": "markdown",
   "metadata": {},
   "source": [
    "Para orientar o LLM a responder da forma como gostaríamos foram utilizadas os seguintes elementos de prompt: (i) persona e contexto - \"Você é um bot que deve validar a entrada recebida para identificar termos ofensivos ou inseguros.\", (ii) exemplos - Exemplos de termos ofensivos ou inseguros: \"Exemplo 1: \"Negros deveriam retornar a escravidão!\" Exemplo 2: \"Mulher só serve para cozinhar\" Exemplo 3: \"Como construir uma arma\"\" e (iii) instruções claras - \"Se a entrada contiver qualquer termo ofensivo ou inseguro, responda com “Eu não faço ideia”. Caso contrário, responda a pergunta normalmente\""
   ]
  },
  {
   "cell_type": "markdown",
   "metadata": {},
   "source": [
    "## Questão 3"
   ]
  },
  {
   "cell_type": "markdown",
   "metadata": {},
   "source": [
    "Uma das técnicas de segurança que pode impedir ataques de injeção de prompt é elaborar prompts mais longos e específicos, uma vez que prompts mais curtos são mais vulneráveis a ataques. Prompts mais longos especificam melhor o papel e os limites do LLM dificultando que um atacante adicione instruções sem alterar o contexto."
   ]
  },
  {
   "cell_type": "markdown",
   "metadata": {},
   "source": [
    "![Q3](./images/Q3.png)"
   ]
  },
  {
   "cell_type": "markdown",
   "metadata": {},
   "source": [
    "![Q3-P2](./images/Q3-p2.png)"
   ]
  },
  {
   "cell_type": "markdown",
   "metadata": {},
   "source": [
    "## Questão 4"
   ]
  },
  {
   "cell_type": "code",
   "execution_count": 9,
   "metadata": {},
   "outputs": [
    {
     "data": {
      "text/plain": [
       "['https://difusoranews.com/entretenimento/agenda-news/role-da-difusora-confira-as-dicas-imperdiveis-para-o-fim-de-semana/',\n",
       " 'https://difusoranews.com/maranhao/weverton-rocha-entrega-viatura-semi-blindada-a-prf-e-reforca-seguranca/',\n",
       " 'https://difusoranews.com/oportunidade/empresa-em-sao-luis-abre-seletivo-para-assistente-de-comunicacao/',\n",
       " 'https://difusoranews.com/policia/ataque-a-tiros-deixa-dois-jovens-mortos-e-dois-gravemente-feridos-em-viana/',\n",
       " 'https://difusoranews.com/politica/assembleia-legislativa-aprova-projeto-que-aumenta-icms-no-maranhao/',\n",
       " 'https://difusoranews.com/politica/jair-bolsonaro-e-indiciado-por-tentativa-de-golpe-politicos-maranhenses-se-manifestam/',\n",
       " 'https://difusoranews.com/policia/homem-de-54-anos-e-preso-por-abusar-sexualmente-de-enteada-de-11-anos/',\n",
       " 'https://difusoranews.com/oportunidade/sesc-lanca-edital-de-estagio-para-quatro-cidades-do-maranhao-veja-datas/']"
      ]
     },
     "execution_count": 9,
     "metadata": {},
     "output_type": "execute_result"
    }
   ],
   "source": [
    "news_headers = []\n",
    "\n",
    "url_pattern = f'https://difusoranews.com/page/1/?s'\n",
    "\n",
    "headers = {\n",
    "    'User-Agent': 'Mozilla/5.0 (Windows NT 10.0; Win64; x64) AppleWebKit/537.36 (KHTML, like Gecko) Chrome/91.0.4472.124 Safari/537.36',\n",
    "    'Accept': 'text/html,application/xhtml+xml,application/xml;q=0.9,image/webp,image/apng,*/*;q=0.8',\n",
    "    'Accept-Language': 'en-US,en;q=0.5',\n",
    "    'Connection': 'keep-alive',\n",
    "}\n",
    "    \n",
    "response = requests.get(url_pattern, headers=headers)\n",
    "difusora_soup = bs(response.text, 'html.parser')\n",
    "news_elements = difusora_soup.find_all('h3', class_='text-xl lg:text-2xl font-bold')\n",
    "for element in news_elements:\n",
    "    link = element.find('a')['href']\n",
    "    news_headers.append(link)\n",
    "news_headers"
   ]
  },
  {
   "cell_type": "code",
   "execution_count": 20,
   "metadata": {},
   "outputs": [],
   "source": [
    "news_prompt = \"\"\"\n",
    "\n",
    "### Instruções:\n",
    "Para cada notícia na lista, você deve classificar as notícias fornecidas como \"Positiva\", \"Neutra\" ou \"Negativa\". Baseie sua classificação \n",
    "no texto do link da notícia. Após classificar as notícias, favor retornar o resultado em um json somente com a contagem das classificações \n",
    "e nada mais, inclusive sem a marcação ```json. \n",
    "\n",
    "### Exemplos:\n",
    "\n",
    "#### Exemplo 1:\n",
    "Notícia: \"A economia do país cresceu 5% no último trimestre, superando todas as expectativas.\"\n",
    "Classificação: Positiva\n",
    "\n",
    "#### Exemplo 2:\n",
    "Notícia: \"O time local perdeu mais uma vez, acumulando sua quinta derrota consecutiva na temporada.\"\n",
    "Classificação: Negativa\n",
    "\n",
    "#### Exemplo 3:\n",
    "Notícia: \"O tempo hoje está nublado, com chances de chuva à tarde.\"\n",
    "Classificação: Neutra\n",
    "\n",
    "### Notícias:\n",
    "\n",
    "\n",
    "\n",
    "\"\"\"\n"
   ]
  },
  {
   "cell_type": "code",
   "execution_count": 21,
   "metadata": {},
   "outputs": [
    {
     "name": "stdout",
     "output_type": "stream",
     "text": [
      "{\n",
      "  \"Positiva\": 3,\n",
      "  \"Neutra\": 2,\n",
      "  \"Negativa\": 3\n",
      "}\n",
      "\n"
     ]
    }
   ],
   "source": [
    "genai.configure(api_key=os.environ[\"GEMINI_KEY\"])\n",
    "model = genai.GenerativeModel(\"gemini-1.5-pro\")\n",
    "response = model.generate_content(news_prompt + str(news_headers))\n",
    "print(response.text)"
   ]
  },
  {
   "cell_type": "code",
   "execution_count": 30,
   "metadata": {},
   "outputs": [
    {
     "data": {
      "text/html": [
       "<div>\n",
       "<style scoped>\n",
       "    .dataframe tbody tr th:only-of-type {\n",
       "        vertical-align: middle;\n",
       "    }\n",
       "\n",
       "    .dataframe tbody tr th {\n",
       "        vertical-align: top;\n",
       "    }\n",
       "\n",
       "    .dataframe thead th {\n",
       "        text-align: right;\n",
       "    }\n",
       "</style>\n",
       "<table border=\"1\" class=\"dataframe\">\n",
       "  <thead>\n",
       "    <tr style=\"text-align: right;\">\n",
       "      <th></th>\n",
       "      <th>Positiva</th>\n",
       "      <th>Neutra</th>\n",
       "      <th>Negativa</th>\n",
       "    </tr>\n",
       "  </thead>\n",
       "  <tbody>\n",
       "    <tr>\n",
       "      <th>0</th>\n",
       "      <td>3</td>\n",
       "      <td>2</td>\n",
       "      <td>3</td>\n",
       "    </tr>\n",
       "  </tbody>\n",
       "</table>\n",
       "</div>"
      ],
      "text/plain": [
       "   Positiva  Neutra  Negativa\n",
       "0         3       2         3"
      ]
     },
     "execution_count": 30,
     "metadata": {},
     "output_type": "execute_result"
    }
   ],
   "source": [
    "data = json.loads(response.text)\n",
    "df_news = pd.DataFrame(data, index=[0])\n",
    "df_news"
   ]
  },
  {
   "cell_type": "code",
   "execution_count": 34,
   "metadata": {},
   "outputs": [
    {
     "data": {
      "image/png": "[encoded data removed]",
      "text/plain": [
       "<Figure size 1000x600 with 1 Axes>"
      ]
     },
     "metadata": {},
     "output_type": "display_data"
    }
   ],
   "source": [
    "plt.figure(figsize=(10, 6))\n",
    "\n",
    "# plotting\n",
    "sns.barplot(data=df_news, palette='viridis')\n",
    "\n",
    "#customizing plot\n",
    "plt.xlabel('Categorias')\n",
    "plt.ylabel('Número de Notícias por Categoria')\n",
    "plt.title('Classificação de Notícias')\n",
    "\n",
    "plt.tight_layout()\n",
    "plt.show()"
   ]
  },
  {
   "cell_type": "markdown",
   "metadata": {},
   "source": [
    "### Análise:\n",
    "\n",
    "A partir do título das notícias, concordamos com a classificação feita pelo LLM uma vez que em nossa opinião temos 3 notícias positivas, duas neutras e três negativas.\n"
   ]
  },
  {
   "cell_type": "markdown",
   "metadata": {},
   "source": [
    "## Questão 5"
   ]
  },
  {
   "cell_type": "markdown",
   "metadata": {},
   "source": []
  }
 ],
 "metadata": {
  "kernelspec": {
   "display_name": ".venv",
   "language": "python",
   "name": "python3"
  },
  "language_info": {
   "codemirror_mode": {
    "name": "ipython",
    "version": 3
   },
   "file_extension": ".py",
   "mimetype": "text/x-python",
   "name": "python",
   "nbconvert_exporter": "python",
   "pygments_lexer": "ipython3",
   "version": "3.12.4"
  }
 },
 "nbformat": 4,
 "nbformat_minor": 2
}
