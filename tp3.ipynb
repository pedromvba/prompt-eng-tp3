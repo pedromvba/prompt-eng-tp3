{
 "cells": [
  {
   "cell_type": "markdown",
   "metadata": {},
   "source": [
    "# Teste de Performance 3\n",
    "\n",
    "Engenharia de Prompts para Ciência de Dados\n",
    "\n",
    "Pedro Monteiro Vieira Bayma Azevedo"
   ]
  },
  {
   "cell_type": "markdown",
   "metadata": {},
   "source": [
    "## Imports"
   ]
  },
  {
   "cell_type": "code",
   "execution_count": 143,
   "metadata": {},
   "outputs": [],
   "source": [
    "import os\n",
    "import json\n",
    "import requests\n",
    "from bs4 import BeautifulSoup as bs\n",
    "import google.generativeai as genai \n",
    "import matplotlib.pyplot as plt\n",
    "import seaborn as sns\n",
    "import pandas as pd\n",
    "from dotenv import load_dotenv\n",
    "from services.functions import *\n",
    "import tiktoken"
   ]
  },
  {
   "cell_type": "code",
   "execution_count": 2,
   "metadata": {},
   "outputs": [
    {
     "data": {
      "text/plain": [
       "True"
      ]
     },
     "execution_count": 2,
     "metadata": {},
     "output_type": "execute_result"
    }
   ],
   "source": [
    "#loading api key\n",
    "\n",
    "load_dotenv('.env')"
   ]
  },
  {
   "cell_type": "markdown",
   "metadata": {},
   "source": [
    "## Questão 1"
   ]
  },
  {
   "cell_type": "markdown",
   "metadata": {},
   "source": [
    "![Q1](./images/Q1.png)"
   ]
  },
  {
   "cell_type": "markdown",
   "metadata": {},
   "source": [
    "O resultado veio de acordo com o esperado, com uma avaliação neutra, inclusive o teor da frase enviada é bem parecida com os exemplos dados como neutros."
   ]
  },
  {
   "cell_type": "markdown",
   "metadata": {},
   "source": [
    "## Questão 2"
   ]
  },
  {
   "cell_type": "markdown",
   "metadata": {},
   "source": [
    "![Q2](./images/Q2.png)"
   ]
  },
  {
   "cell_type": "markdown",
   "metadata": {},
   "source": [
    "Para orientar o LLM a responder da forma como gostaríamos foram utilizadas os seguintes elementos de prompt: (i) persona e contexto - \"Você é um bot que deve validar a entrada recebida para identificar termos ofensivos ou inseguros.\", (ii) exemplos - Exemplos de termos ofensivos ou inseguros: \"Exemplo 1: \"Negros deveriam retornar a escravidão!\" Exemplo 2: \"Mulher só serve para cozinhar\" Exemplo 3: \"Como construir uma arma\"\" e (iii) instruções claras - \"Se a entrada contiver qualquer termo ofensivo ou inseguro, responda com “Eu não faço ideia”. Caso contrário, responda a pergunta normalmente\""
   ]
  },
  {
   "cell_type": "markdown",
   "metadata": {},
   "source": [
    "## Questão 3"
   ]
  },
  {
   "cell_type": "markdown",
   "metadata": {},
   "source": [
    "Uma das técnicas de segurança que pode impedir ataques de injeção de prompt é elaborar prompts mais longos e específicos, uma vez que prompts mais curtos são mais vulneráveis a ataques. Prompts mais longos especificam melhor o papel e os limites do LLM dificultando que um atacante adicione instruções sem alterar o contexto."
   ]
  },
  {
   "cell_type": "markdown",
   "metadata": {},
   "source": [
    "![Q3](./images/Q3.png)"
   ]
  },
  {
   "cell_type": "markdown",
   "metadata": {},
   "source": [
    "![Q3-P2](./images/Q3-p2.png)"
   ]
  },
  {
   "cell_type": "markdown",
   "metadata": {},
   "source": [
    "## Questão 4"
   ]
  },
  {
   "cell_type": "code",
   "execution_count": 3,
   "metadata": {},
   "outputs": [
    {
     "data": {
      "text/plain": [
       "['https://difusoranews.com/maranhao/estatistica/latrocinios-crescem-20-na-regiao-metropolitana-de-sao-luis-apontam-dados-da-ssp/',\n",
       " 'https://difusoranews.com/maranhao/sao-jose-de-ribamar/apos-agredir-crianca-mae-e-companheira-prestam-depoimento/',\n",
       " 'https://difusoranews.com/entretenimento/agenda-news/role-da-difusora-confira-as-dicas-imperdiveis-para-o-fim-de-semana/',\n",
       " 'https://difusoranews.com/maranhao/weverton-rocha-entrega-viatura-semi-blindada-a-prf-e-reforca-seguranca/',\n",
       " 'https://difusoranews.com/oportunidade/empresa-em-sao-luis-abre-seletivo-para-assistente-de-comunicacao/',\n",
       " 'https://difusoranews.com/policia/ataque-a-tiros-deixa-dois-jovens-mortos-e-dois-gravemente-feridos-em-viana/',\n",
       " 'https://difusoranews.com/politica/assembleia-legislativa-aprova-projeto-que-aumenta-icms-no-maranhao/',\n",
       " 'https://difusoranews.com/politica/jair-bolsonaro-e-indiciado-por-tentativa-de-golpe-politicos-maranhenses-se-manifestam/']"
      ]
     },
     "execution_count": 3,
     "metadata": {},
     "output_type": "execute_result"
    }
   ],
   "source": [
    "news_headers = []\n",
    "\n",
    "url_pattern = f'https://difusoranews.com/page/1/?s'\n",
    "\n",
    "headers = {\n",
    "    'User-Agent': 'Mozilla/5.0 (Windows NT 10.0; Win64; x64) AppleWebKit/537.36 (KHTML, like Gecko) Chrome/91.0.4472.124 Safari/537.36',\n",
    "    'Accept': 'text/html,application/xhtml+xml,application/xml;q=0.9,image/webp,image/apng,*/*;q=0.8',\n",
    "    'Accept-Language': 'en-US,en;q=0.5',\n",
    "    'Connection': 'keep-alive',\n",
    "}\n",
    "    \n",
    "response = requests.get(url_pattern, headers=headers)\n",
    "difusora_soup = bs(response.text, 'html.parser')\n",
    "news_elements = difusora_soup.find_all('h3', class_='text-xl lg:text-2xl font-bold')\n",
    "for element in news_elements:\n",
    "    link = element.find('a')['href']\n",
    "    news_headers.append(link)\n",
    "news_headers"
   ]
  },
  {
   "cell_type": "code",
   "execution_count": 4,
   "metadata": {},
   "outputs": [],
   "source": [
    "news_prompt = \"\"\"\n",
    "\n",
    "### Instruções:\n",
    "Para cada notícia na lista, você deve classificar as notícias fornecidas como \"Positiva\", \"Neutra\" ou \"Negativa\". Baseie sua classificação \n",
    "no texto do link da notícia. Após classificar as notícias, favor retornar o resultado em um json somente com a contagem das classificações \n",
    "e nada mais, inclusive sem a marcação ```json. \n",
    "\n",
    "### Exemplos:\n",
    "\n",
    "#### Exemplo 1:\n",
    "Notícia: \"A economia do país cresceu 5% no último trimestre, superando todas as expectativas.\"\n",
    "Classificação: Positiva\n",
    "\n",
    "#### Exemplo 2:\n",
    "Notícia: \"O time local perdeu mais uma vez, acumulando sua quinta derrota consecutiva na temporada.\"\n",
    "Classificação: Negativa\n",
    "\n",
    "#### Exemplo 3:\n",
    "Notícia: \"O tempo hoje está nublado, com chances de chuva à tarde.\"\n",
    "Classificação: Neutra\n",
    "\n",
    "### Notícias:\n",
    "\n",
    "\n",
    "\n",
    "\"\"\"\n"
   ]
  },
  {
   "cell_type": "code",
   "execution_count": 5,
   "metadata": {},
   "outputs": [
    {
     "name": "stdout",
     "output_type": "stream",
     "text": [
      "{\n",
      "  \"Positiva\": 3,\n",
      "  \"Negativa\": 3,\n",
      "  \"Neutra\": 2\n",
      "}\n",
      "\n"
     ]
    }
   ],
   "source": [
    "genai.configure(api_key=os.environ[\"GEMINI_KEY\"])\n",
    "model = genai.GenerativeModel(\"gemini-1.5-pro\")\n",
    "response = model.generate_content(news_prompt + str(news_headers))\n",
    "print(response.text)"
   ]
  },
  {
   "cell_type": "code",
   "execution_count": 6,
   "metadata": {},
   "outputs": [
    {
     "data": {
      "text/html": [
       "<div>\n",
       "<style scoped>\n",
       "    .dataframe tbody tr th:only-of-type {\n",
       "        vertical-align: middle;\n",
       "    }\n",
       "\n",
       "    .dataframe tbody tr th {\n",
       "        vertical-align: top;\n",
       "    }\n",
       "\n",
       "    .dataframe thead th {\n",
       "        text-align: right;\n",
       "    }\n",
       "</style>\n",
       "<table border=\"1\" class=\"dataframe\">\n",
       "  <thead>\n",
       "    <tr style=\"text-align: right;\">\n",
       "      <th></th>\n",
       "      <th>Positiva</th>\n",
       "      <th>Negativa</th>\n",
       "      <th>Neutra</th>\n",
       "    </tr>\n",
       "  </thead>\n",
       "  <tbody>\n",
       "    <tr>\n",
       "      <th>0</th>\n",
       "      <td>3</td>\n",
       "      <td>3</td>\n",
       "      <td>2</td>\n",
       "    </tr>\n",
       "  </tbody>\n",
       "</table>\n",
       "</div>"
      ],
      "text/plain": [
       "   Positiva  Negativa  Neutra\n",
       "0         3         3       2"
      ]
     },
     "execution_count": 6,
     "metadata": {},
     "output_type": "execute_result"
    }
   ],
   "source": [
    "data = json.loads(response.text)\n",
    "df_news = pd.DataFrame(data, index=[0])\n",
    "df_news"
   ]
  },
  {
   "cell_type": "code",
   "execution_count": 7,
   "metadata": {},
   "outputs": [
    {
     "data": {
      "image/png": "[encoded data removed]",
      "text/plain": [
       "<Figure size 1000x600 with 1 Axes>"
      ]
     },
     "metadata": {},
     "output_type": "display_data"
    }
   ],
   "source": [
    "plt.figure(figsize=(10, 6))\n",
    "\n",
    "# plotting\n",
    "sns.barplot(data=df_news, palette='viridis')\n",
    "\n",
    "#customizing plot\n",
    "plt.xlabel('Categorias')\n",
    "plt.ylabel('Número de Notícias por Categoria')\n",
    "plt.title('Classificação de Notícias')\n",
    "\n",
    "plt.tight_layout()\n",
    "plt.show()"
   ]
  },
  {
   "cell_type": "markdown",
   "metadata": {},
   "source": [
    "### Análise:\n",
    "\n",
    "A partir do título das notícias, concordamos com a classificação feita pelo LLM uma vez que em nossa opinião temos três notícias positivas, duas neutras e três negativas.\n"
   ]
  },
  {
   "cell_type": "markdown",
   "metadata": {},
   "source": [
    "## Questão 5"
   ]
  },
  {
   "cell_type": "markdown",
   "metadata": {},
   "source": [
    "### Parte 1"
   ]
  },
  {
   "cell_type": "code",
   "execution_count": 12,
   "metadata": {},
   "outputs": [
    {
     "data": {
      "text/html": [
       "<div>\n",
       "<style scoped>\n",
       "    .dataframe tbody tr th:only-of-type {\n",
       "        vertical-align: middle;\n",
       "    }\n",
       "\n",
       "    .dataframe tbody tr th {\n",
       "        vertical-align: top;\n",
       "    }\n",
       "\n",
       "    .dataframe thead th {\n",
       "        text-align: right;\n",
       "    }\n",
       "</style>\n",
       "<table border=\"1\" class=\"dataframe\">\n",
       "  <thead>\n",
       "    <tr style=\"text-align: right;\">\n",
       "      <th></th>\n",
       "      <th>episode_id</th>\n",
       "      <th>number</th>\n",
       "      <th>raw_text</th>\n",
       "      <th>timestamp_in_ms</th>\n",
       "      <th>speaking_line</th>\n",
       "      <th>character_id</th>\n",
       "      <th>location_id</th>\n",
       "      <th>raw_character_text</th>\n",
       "      <th>raw_location_text</th>\n",
       "      <th>spoken_words</th>\n",
       "      <th>...</th>\n",
       "      <th>episode_season</th>\n",
       "      <th>episode_title</th>\n",
       "      <th>episode_us_viewers_in_millions</th>\n",
       "      <th>episode_video_url</th>\n",
       "      <th>episode_views</th>\n",
       "      <th>character_name</th>\n",
       "      <th>character_normalized_name</th>\n",
       "      <th>character_gender</th>\n",
       "      <th>location_name</th>\n",
       "      <th>location_normalized_name</th>\n",
       "    </tr>\n",
       "  </thead>\n",
       "  <tbody>\n",
       "    <tr>\n",
       "      <th>0</th>\n",
       "      <td>32</td>\n",
       "      <td>209</td>\n",
       "      <td>Miss Hoover: No, actually, it was a little of ...</td>\n",
       "      <td>848000</td>\n",
       "      <td>true</td>\n",
       "      <td>464</td>\n",
       "      <td>3.0</td>\n",
       "      <td>Miss Hoover</td>\n",
       "      <td>Springfield Elementary School</td>\n",
       "      <td>No, actually, it was a little of both. Sometim...</td>\n",
       "      <td>...</td>\n",
       "      <td>2</td>\n",
       "      <td>Lisa's Substitute</td>\n",
       "      <td>17.7</td>\n",
       "      <td>http://www.simpsonsworld.com/video/288011331912</td>\n",
       "      <td>52770.0</td>\n",
       "      <td>Miss Hoover</td>\n",
       "      <td>miss hoover</td>\n",
       "      <td>f</td>\n",
       "      <td>Springfield Elementary School</td>\n",
       "      <td>springfield elementary school</td>\n",
       "    </tr>\n",
       "    <tr>\n",
       "      <th>1</th>\n",
       "      <td>32</td>\n",
       "      <td>210</td>\n",
       "      <td>Lisa Simpson: (NEAR TEARS) Where's Mr. Bergstrom?</td>\n",
       "      <td>856000</td>\n",
       "      <td>true</td>\n",
       "      <td>9</td>\n",
       "      <td>3.0</td>\n",
       "      <td>Lisa Simpson</td>\n",
       "      <td>Springfield Elementary School</td>\n",
       "      <td>Where's Mr. Bergstrom?</td>\n",
       "      <td>...</td>\n",
       "      <td>2</td>\n",
       "      <td>Lisa's Substitute</td>\n",
       "      <td>17.7</td>\n",
       "      <td>http://www.simpsonsworld.com/video/288011331912</td>\n",
       "      <td>52770.0</td>\n",
       "      <td>Lisa Simpson</td>\n",
       "      <td>lisa simpson</td>\n",
       "      <td>f</td>\n",
       "      <td>Springfield Elementary School</td>\n",
       "      <td>springfield elementary school</td>\n",
       "    </tr>\n",
       "    <tr>\n",
       "      <th>2</th>\n",
       "      <td>32</td>\n",
       "      <td>211</td>\n",
       "      <td>Miss Hoover: I don't know. Although I'd sure l...</td>\n",
       "      <td>856000</td>\n",
       "      <td>true</td>\n",
       "      <td>464</td>\n",
       "      <td>3.0</td>\n",
       "      <td>Miss Hoover</td>\n",
       "      <td>Springfield Elementary School</td>\n",
       "      <td>I don't know. Although I'd sure like to talk t...</td>\n",
       "      <td>...</td>\n",
       "      <td>2</td>\n",
       "      <td>Lisa's Substitute</td>\n",
       "      <td>17.7</td>\n",
       "      <td>http://www.simpsonsworld.com/video/288011331912</td>\n",
       "      <td>52770.0</td>\n",
       "      <td>Miss Hoover</td>\n",
       "      <td>miss hoover</td>\n",
       "      <td>f</td>\n",
       "      <td>Springfield Elementary School</td>\n",
       "      <td>springfield elementary school</td>\n",
       "    </tr>\n",
       "    <tr>\n",
       "      <th>3</th>\n",
       "      <td>32</td>\n",
       "      <td>212</td>\n",
       "      <td>Lisa Simpson: That life is worth living.</td>\n",
       "      <td>864000</td>\n",
       "      <td>true</td>\n",
       "      <td>9</td>\n",
       "      <td>3.0</td>\n",
       "      <td>Lisa Simpson</td>\n",
       "      <td>Springfield Elementary School</td>\n",
       "      <td>That life is worth living.</td>\n",
       "      <td>...</td>\n",
       "      <td>2</td>\n",
       "      <td>Lisa's Substitute</td>\n",
       "      <td>17.7</td>\n",
       "      <td>http://www.simpsonsworld.com/video/288011331912</td>\n",
       "      <td>52770.0</td>\n",
       "      <td>Lisa Simpson</td>\n",
       "      <td>lisa simpson</td>\n",
       "      <td>f</td>\n",
       "      <td>Springfield Elementary School</td>\n",
       "      <td>springfield elementary school</td>\n",
       "    </tr>\n",
       "    <tr>\n",
       "      <th>4</th>\n",
       "      <td>32</td>\n",
       "      <td>213</td>\n",
       "      <td>Edna Krabappel-Flanders: The polls will be ope...</td>\n",
       "      <td>864000</td>\n",
       "      <td>true</td>\n",
       "      <td>40</td>\n",
       "      <td>3.0</td>\n",
       "      <td>Edna Krabappel-Flanders</td>\n",
       "      <td>Springfield Elementary School</td>\n",
       "      <td>The polls will be open from now until the end ...</td>\n",
       "      <td>...</td>\n",
       "      <td>2</td>\n",
       "      <td>Lisa's Substitute</td>\n",
       "      <td>17.7</td>\n",
       "      <td>http://www.simpsonsworld.com/video/288011331912</td>\n",
       "      <td>52770.0</td>\n",
       "      <td>Edna Krabappel-Flanders</td>\n",
       "      <td>edna krabappel-flanders</td>\n",
       "      <td>f</td>\n",
       "      <td>Springfield Elementary School</td>\n",
       "      <td>springfield elementary school</td>\n",
       "    </tr>\n",
       "  </tbody>\n",
       "</table>\n",
       "<p>5 rows × 30 columns</p>\n",
       "</div>"
      ],
      "text/plain": [
       "   episode_id  number                                           raw_text  \\\n",
       "0          32     209  Miss Hoover: No, actually, it was a little of ...   \n",
       "1          32     210  Lisa Simpson: (NEAR TEARS) Where's Mr. Bergstrom?   \n",
       "2          32     211  Miss Hoover: I don't know. Although I'd sure l...   \n",
       "3          32     212           Lisa Simpson: That life is worth living.   \n",
       "4          32     213  Edna Krabappel-Flanders: The polls will be ope...   \n",
       "\n",
       "  timestamp_in_ms speaking_line character_id  location_id  \\\n",
       "0          848000          true          464          3.0   \n",
       "1          856000          true            9          3.0   \n",
       "2          856000          true          464          3.0   \n",
       "3          864000          true            9          3.0   \n",
       "4          864000          true           40          3.0   \n",
       "\n",
       "        raw_character_text              raw_location_text  \\\n",
       "0              Miss Hoover  Springfield Elementary School   \n",
       "1             Lisa Simpson  Springfield Elementary School   \n",
       "2              Miss Hoover  Springfield Elementary School   \n",
       "3             Lisa Simpson  Springfield Elementary School   \n",
       "4  Edna Krabappel-Flanders  Springfield Elementary School   \n",
       "\n",
       "                                        spoken_words  ... episode_season  \\\n",
       "0  No, actually, it was a little of both. Sometim...  ...              2   \n",
       "1                             Where's Mr. Bergstrom?  ...              2   \n",
       "2  I don't know. Although I'd sure like to talk t...  ...              2   \n",
       "3                         That life is worth living.  ...              2   \n",
       "4  The polls will be open from now until the end ...  ...              2   \n",
       "\n",
       "       episode_title episode_us_viewers_in_millions  \\\n",
       "0  Lisa's Substitute                           17.7   \n",
       "1  Lisa's Substitute                           17.7   \n",
       "2  Lisa's Substitute                           17.7   \n",
       "3  Lisa's Substitute                           17.7   \n",
       "4  Lisa's Substitute                           17.7   \n",
       "\n",
       "                                 episode_video_url  episode_views  \\\n",
       "0  http://www.simpsonsworld.com/video/288011331912        52770.0   \n",
       "1  http://www.simpsonsworld.com/video/288011331912        52770.0   \n",
       "2  http://www.simpsonsworld.com/video/288011331912        52770.0   \n",
       "3  http://www.simpsonsworld.com/video/288011331912        52770.0   \n",
       "4  http://www.simpsonsworld.com/video/288011331912        52770.0   \n",
       "\n",
       "            character_name  character_normalized_name character_gender  \\\n",
       "0              Miss Hoover                miss hoover                f   \n",
       "1             Lisa Simpson               lisa simpson                f   \n",
       "2              Miss Hoover                miss hoover                f   \n",
       "3             Lisa Simpson               lisa simpson                f   \n",
       "4  Edna Krabappel-Flanders    edna krabappel-flanders                f   \n",
       "\n",
       "                   location_name       location_normalized_name  \n",
       "0  Springfield Elementary School  springfield elementary school  \n",
       "1  Springfield Elementary School  springfield elementary school  \n",
       "2  Springfield Elementary School  springfield elementary school  \n",
       "3  Springfield Elementary School  springfield elementary school  \n",
       "4  Springfield Elementary School  springfield elementary school  \n",
       "\n",
       "[5 rows x 30 columns]"
      ]
     },
     "execution_count": 12,
     "metadata": {},
     "output_type": "execute_result"
    }
   ],
   "source": [
    "import pandas as pd\n",
    "\n",
    "df_script = pd.read_csv('./data/theSimpsons/simpsons_script_lines.csv', low_memory=False)\n",
    "df_episodes = pd.read_csv('./data/theSimpsons/simpsons_episodes.csv', low_memory=False)\n",
    "df_characters = pd.read_csv('./data/theSimpsons/simpsons_characters.csv', low_memory=False)\n",
    "df_locations = pd.read_csv('./data/theSimpsons/simpsons_locations.csv', low_memory=False)\n",
    "\n",
    "df_script.set_index('id', inplace=True)\n",
    "df_characters['id'] = df_characters['id'].astype(str)\n",
    "\n",
    "df_characters = df_characters.add_prefix('character_')\n",
    "df_locations = df_locations.add_prefix('location_')\n",
    "df_episodes = df_episodes.add_prefix('episode_')\n",
    "\n",
    "data = (\n",
    "    df_script.merge(df_episodes, left_on='episode_id', right_on='episode_id')\n",
    "             .merge(df_characters, left_on='character_id', right_on='character_id', how='left')\n",
    "             .merge(df_locations, left_on='location_id', right_on='location_id', how='left')\n",
    ")\n",
    "data.head()"
   ]
  },
  {
   "cell_type": "code",
   "execution_count": 19,
   "metadata": {},
   "outputs": [
    {
     "data": {
      "text/plain": [
       "(158271, 30)"
      ]
     },
     "execution_count": 19,
     "metadata": {},
     "output_type": "execute_result"
    }
   ],
   "source": [
    "data.shape"
   ]
  },
  {
   "cell_type": "code",
   "execution_count": null,
   "metadata": {},
   "outputs": [
    {
     "data": {
      "text/plain": [
       "(132087, 31)"
      ]
     },
     "execution_count": 20,
     "metadata": {},
     "output_type": "execute_result"
    }
   ],
   "source": [
    "X = data.dropna(subset='normalized_text').copy()\n",
    "X['n_tokens'] = X.normalized_text.fillna('').apply(lambda x: len(estimar_tokens(x)))\n",
    "X.shape"
   ]
  },
  {
   "cell_type": "markdown",
   "metadata": {},
   "source": [
    "#### Token Médio por Episódio"
   ]
  },
  {
   "cell_type": "code",
   "execution_count": 46,
   "metadata": {},
   "outputs": [
    {
     "name": "stdout",
     "output_type": "stream",
     "text": [
      "O número de tokens médio por episódio é de 2606.98.\n"
     ]
    }
   ],
   "source": [
    "q1 = X.groupby('episode_id')['n_tokens'].sum().mean()\n",
    "print(f'O número de tokens médio por episódio é de {q1:.2f}.')"
   ]
  },
  {
   "cell_type": "markdown",
   "metadata": {},
   "source": [
    "#### Token Médio por Temporada"
   ]
  },
  {
   "cell_type": "code",
   "execution_count": 47,
   "metadata": {},
   "outputs": [
    {
     "name": "stdout",
     "output_type": "stream",
     "text": [
      "O número de tokens médio por temporada é de 56551.46.\n"
     ]
    }
   ],
   "source": [
    "q2 = X.groupby('episode_season')['n_tokens'].sum().mean()\n",
    "print(f'O número de tokens médio por temporada é de {q2:.2f}.')"
   ]
  },
  {
   "cell_type": "markdown",
   "metadata": {},
   "source": [
    "#### Temporada com Mais Tokens"
   ]
  },
  {
   "cell_type": "code",
   "execution_count": 48,
   "metadata": {},
   "outputs": [
    {
     "name": "stdout",
     "output_type": "stream",
     "text": [
      "A temporada com o maior número de tokens é 7 com 70418 tokens.\n"
     ]
    }
   ],
   "source": [
    "q3 = X.groupby('episode_season')['n_tokens'].sum()\n",
    "temporada_max_tokens = q3.idxmax()\n",
    "max_tokens = q3.max()\n",
    "print(f'A temporada com o maior número de tokens é {temporada_max_tokens} com {max_tokens} tokens.')"
   ]
  },
  {
   "cell_type": "markdown",
   "metadata": {},
   "source": [
    "#### Episódio com Mais Tokens"
   ]
  },
  {
   "cell_type": "code",
   "execution_count": 49,
   "metadata": {},
   "outputs": [
    {
     "name": "stdout",
     "output_type": "stream",
     "text": [
      "O episódio com o maior número de tokens é 49 com 3454 tokens.\n"
     ]
    }
   ],
   "source": [
    "q4 = X.groupby('episode_id')['n_tokens'].sum()\n",
    "episodio_max_tokens = q4.idxmax()\n",
    "max_tokens = q4.max()\n",
    "print(f'O episódio com o maior número de tokens é {episodio_max_tokens} com {max_tokens} tokens.')"
   ]
  },
  {
   "cell_type": "code",
   "execution_count": 51,
   "metadata": {},
   "outputs": [
    {
     "data": {
      "text/plain": [
       "<Axes: ylabel='Frequency'>"
      ]
     },
     "execution_count": 51,
     "metadata": {},
     "output_type": "execute_result"
    },
    {
     "data": {
      "image/png": "[encoded data removed]",
      "text/plain": [
       "<Figure size 640x480 with 1 Axes>"
      ]
     },
     "metadata": {},
     "output_type": "display_data"
    }
   ],
   "source": [
    "X.groupby('episode_id').n_tokens.sum().plot.hist(bins=100)"
   ]
  },
  {
   "cell_type": "code",
   "execution_count": 52,
   "metadata": {},
   "outputs": [
    {
     "data": {
      "text/plain": [
       "count     564.00000\n",
       "mean     2606.98227\n",
       "std       296.87365\n",
       "min       864.00000\n",
       "25%      2428.75000\n",
       "50%      2619.50000\n",
       "75%      2802.25000\n",
       "max      3454.00000\n",
       "Name: n_tokens, dtype: float64"
      ]
     },
     "execution_count": 52,
     "metadata": {},
     "output_type": "execute_result"
    }
   ],
   "source": [
    "X.groupby('episode_id').n_tokens.sum().describe()"
   ]
  },
  {
   "cell_type": "markdown",
   "metadata": {},
   "source": [
    "#### Análise:\n",
    "\n",
    "A partir do histograma, observa-se que os resultados obtidos para tokens médios e máximos por episódio e temporada estão de acordo com o disposto pelos dados. Ainda é possível observar na análise e pela tabela acima que temos uma distribuição que se aproxima de uma normal, concetrada próxima de sua média, contudo com uma assimetria a esquerda que pode ser observada tanto pelo histograma quanto pelo valor de sua média que é menor que a mediana."
   ]
  },
  {
   "cell_type": "markdown",
   "metadata": {},
   "source": [
    "### Parte 2"
   ]
  },
  {
   "cell_type": "code",
   "execution_count": 56,
   "metadata": {},
   "outputs": [],
   "source": [
    "cols = ['episode_id', 'episode_season','episode_original_air_date', 'episode_imdb_rating', \n",
    "        'episode_imdb_votes', 'episode_us_viewers_in_millions', 'episode_views']\n",
    "episode_stats = data[cols].drop_duplicates()\n",
    "episode_stats.to_csv('./data/theSimpsons/series_data.csv', sep=';', index=None)"
   ]
  },
  {
   "cell_type": "code",
   "execution_count": null,
   "metadata": {},
   "outputs": [],
   "source": [
    "prompt_chain_1 = \"\"\"\n",
    "\n",
    "You are a data scientist specialized in analysing entertainment content. You are working on the\n",
    "\"The Simpsons\" dataset, investigating patterns in the series series_data.\n",
    "\n",
    "The data provided has the following columns:\n",
    "\n",
    "- episode_id: episode unique identifier\n",
    "- episode_season: episode season number\n",
    "- episode_original_air_date: date that the episode was first exhibited\n",
    "- episode_imdb_rating: episode with the IMDB rating \n",
    "- episode_imdb_votes: episode with the number of voters\n",
    "- episode_us_viewers_in_millions: number of episode viewers (in millions)\n",
    "- episode_views: total number of episode views.\n",
    "\n",
    "You want to evaluate the the relationship between IMDB ratings ('episode_imdb_rating', 'episode_imdb_votes') \n",
    "and episode audience ('episode_us_viewers_in_millions', 'episode_views')\n",
    "\n",
    "\n",
    "Please, generate a list of 2 analyses that can be implemented given the available series_data, as a JSON file:\n",
    "{[\n",
    "    {'Name':'analysis name',\n",
    "     'Objective': 'what we need to analyze',\n",
    "     'Method': 'how we analyze it'\n",
    "    }\n",
    "]\n",
    "}\n",
    "\n",
    "Please return only the JSON file with the analysis list, without any additional information, \n",
    "including the JSON tag like this ```json. .\n",
    "\n",
    "\"\"\""
   ]
  },
  {
   "cell_type": "code",
   "execution_count": 58,
   "metadata": {},
   "outputs": [
    {
     "name": "stdout",
     "output_type": "stream",
     "text": [
      "[\n",
      "    {\n",
      "        \"Name\": \"Correlation Analysis between IMDB Ratings and Viewership\",\n",
      "        \"Objective\": \"To determine the relationship between IMDB ratings (rating and votes) and episode viewership (US viewers and total views).\",\n",
      "        \"Method\": \"Calculate Pearson correlation coefficients between 'episode_imdb_rating', 'episode_imdb_votes' and 'episode_us_viewers_in_millions', 'episode_views'. Visualize the relationships using scatter plots and potentially a correlation matrix.\"\n",
      "    },\n",
      "    {\n",
      "        \"Name\": \"Comparative Analysis of Viewership for High vs. Low Rated Episodes\",\n",
      "        \"Objective\": \"To compare the viewership metrics for episodes with high IMDB ratings versus episodes with low IMDB ratings.\",\n",
      "        \"Method\": \"Divide the episodes into groups based on IMDB rating (e.g., top 25% vs. bottom 25%). Compare the average 'episode_us_viewers_in_millions' and 'episode_views' for the two groups. Perform a statistical test (e.g., t-test) to determine if the difference in viewership is statistically significant. Visualize the comparison using box plots or bar charts.\"\n",
      "    }\n",
      "]\n",
      "\n"
     ]
    }
   ],
   "source": [
    "genai.configure(api_key=os.environ[\"GEMINI_KEY\"])\n",
    "model = genai.GenerativeModel(\"gemini-1.5-pro\")\n",
    "response = model.generate_content(prompt_chain_1)\n",
    "print(response.text)"
   ]
  },
  {
   "cell_type": "code",
   "execution_count": 59,
   "metadata": {},
   "outputs": [
    {
     "data": {
      "text/plain": [
       "[{'Name': 'Correlation Analysis between IMDB Ratings and Viewership',\n",
       "  'Objective': 'To determine the relationship between IMDB ratings (rating and votes) and episode viewership (US viewers and total views).',\n",
       "  'Method': \"Calculate Pearson correlation coefficients between 'episode_imdb_rating', 'episode_imdb_votes' and 'episode_us_viewers_in_millions', 'episode_views'. Visualize the relationships using scatter plots and potentially a correlation matrix.\"},\n",
       " {'Name': 'Comparative Analysis of Viewership for High vs. Low Rated Episodes',\n",
       "  'Objective': 'To compare the viewership metrics for episodes with high IMDB ratings versus episodes with low IMDB ratings.',\n",
       "  'Method': \"Divide the episodes into groups based on IMDB rating (e.g., top 25% vs. bottom 25%). Compare the average 'episode_us_viewers_in_millions' and 'episode_views' for the two groups. Perform a statistical test (e.g., t-test) to determine if the difference in viewership is statistically significant. Visualize the comparison using box plots or bar charts.\"}]"
      ]
     },
     "execution_count": 59,
     "metadata": {},
     "output_type": "execute_result"
    }
   ],
   "source": [
    "analysis = json.loads(response.text)\n",
    "analysis"
   ]
  },
  {
   "cell_type": "code",
   "execution_count": null,
   "metadata": {},
   "outputs": [
    {
     "name": "stdout",
     "output_type": "stream",
     "text": [
      "```python\n",
      "import pandas as pd\n",
      "import matplotlib.pyplot as plt\n",
      "import seaborn as sns\n",
      "\n",
      "def correlation_analysis(df):\n",
      "    correlations = df[['episode_imdb_rating', 'episode_imdb_votes', 'episode_us_viewers_in_millions', 'episode_views']].corr()\n",
      "    \n",
      "    plt.figure(figsize=(8, 6))\n",
      "    sns.heatmap(correlations, annot=True, cmap='coolwarm', vmin=-1, vmax=1)\n",
      "    plt.title('Correlation Matrix')\n",
      "    plt.show()\n",
      "\n",
      "    plt.figure(figsize=(10, 5))\n",
      "\n",
      "    plt.subplot(1, 2, 1)\n",
      "    plt.scatter(df['episode_imdb_rating'], df['episode_us_viewers_in_millions'])\n",
      "    plt.title('IMDB Rating vs. US Viewers')\n",
      "    plt.xlabel('IMDB Rating')\n",
      "    plt.ylabel('US Viewers (Millions)')\n",
      "\n",
      "\n",
      "    plt.subplot(1, 2, 2)\n",
      "    plt.scatter(df['episode_imdb_rating'], df['episode_views'])\n",
      "    plt.title('IMDB Rating vs. Total Views')\n",
      "    plt.xlabel('IMDB Rating')\n",
      "    plt.ylabel('Total Views')\n",
      "    plt.show()\n",
      "    \n",
      "    plt.figure(figsize=(10, 5))\n",
      "\n",
      "    plt.subplot(1, 2, 1)\n",
      "    plt.scatter(df['episode_imdb_votes'], df['episode_us_viewers_in_millions'])\n",
      "    plt.title('IMDB Votes vs. US Viewers')\n",
      "    plt.xlabel('IMDB Votes')\n",
      "    plt.ylabel('US Viewers (Millions)')\n",
      "\n",
      "    plt.subplot(1, 2, 2)\n",
      "    plt.scatter(df['episode_imdb_votes'], df['episode_views'])\n",
      "    plt.title('IMDB Votes vs. Total Views')\n",
      "    plt.xlabel('IMDB Votes')\n",
      "    plt.ylabel('Total Views')\n",
      "\n",
      "    plt.tight_layout()\n",
      "    plt.show()\n",
      "    \n",
      "    return correlations\n",
      "```\n",
      "\n"
     ]
    }
   ],
   "source": [
    "prompt_chain_2 = f\"\"\"\n",
    "\n",
    "You are a data scientist specialized in analysing entertainment content. You are working on the\n",
    "\"The Simpsons\" dataset, investigating patterns in the series series_data.\n",
    "\n",
    "The data provided has the following columns:\n",
    "\n",
    "- episode_id: episode unique identifier\n",
    "- episode_season: episode season number\n",
    "- episode_original_air_date: date that the episode was first exhibited\n",
    "- episode_imdb_rating: episode with the IMDB rating \n",
    "- episode_imdb_votes: episode with the number of voters\n",
    "- episode_us_viewers_in_millions: number of episode viewers (in millions)\n",
    "- episode_views: total number of episode views.\n",
    "\n",
    "Please implement the analysis below in python code:\n",
    "{analysis[0]}\n",
    "\n",
    "Please return only the code without any tags linke ```python and any explanations.\n",
    "\"\"\"\n",
    "\n",
    "genai.configure(api_key=os.environ[\"GEMINI_KEY\"])\n",
    "model = genai.GenerativeModel(\"gemini-1.5-pro\")\n",
    "response = model.generate_content(prompt_chain_1)\n",
    "print(response.text)\n",
    "\n",
    "clean_code = response.text.replace(\"```python\\n\",'').replace(\"\\n```\",'')\n"
   ]
  },
  {
   "cell_type": "code",
   "execution_count": null,
   "metadata": {},
   "outputs": [
    {
     "data": {
      "image/png": "[encoded data removed]",
      "text/plain": [
       "<Figure size 800x600 with 2 Axes>"
      ]
     },
     "metadata": {},
     "output_type": "display_data"
    },
    {
     "data": {
      "image/png": "[encoded data removed]",
      "text/plain": [
       "<Figure size 1000x500 with 2 Axes>"
      ]
     },
     "metadata": {},
     "output_type": "display_data"
    },
    {
     "data": {
      "image/png": "[encoded data removed]",
      "text/plain": [
       "<Figure size 1000x500 with 2 Axes>"
      ]
     },
     "metadata": {},
     "output_type": "display_data"
    },
    {
     "data": {
      "text/html": [
       "<div>\n",
       "<style scoped>\n",
       "    .dataframe tbody tr th:only-of-type {\n",
       "        vertical-align: middle;\n",
       "    }\n",
       "\n",
       "    .dataframe tbody tr th {\n",
       "        vertical-align: top;\n",
       "    }\n",
       "\n",
       "    .dataframe thead th {\n",
       "        text-align: right;\n",
       "    }\n",
       "</style>\n",
       "<table border=\"1\" class=\"dataframe\">\n",
       "  <thead>\n",
       "    <tr style=\"text-align: right;\">\n",
       "      <th></th>\n",
       "      <th>episode_imdb_rating</th>\n",
       "      <th>episode_imdb_votes</th>\n",
       "      <th>episode_us_viewers_in_millions</th>\n",
       "      <th>episode_views</th>\n",
       "    </tr>\n",
       "  </thead>\n",
       "  <tbody>\n",
       "    <tr>\n",
       "      <th>episode_imdb_rating</th>\n",
       "      <td>1.000000</td>\n",
       "      <td>0.780556</td>\n",
       "      <td>0.610862</td>\n",
       "      <td>0.594384</td>\n",
       "    </tr>\n",
       "    <tr>\n",
       "      <th>episode_imdb_votes</th>\n",
       "      <td>0.780556</td>\n",
       "      <td>1.000000</td>\n",
       "      <td>0.768896</td>\n",
       "      <td>0.655752</td>\n",
       "    </tr>\n",
       "    <tr>\n",
       "      <th>episode_us_viewers_in_millions</th>\n",
       "      <td>0.610862</td>\n",
       "      <td>0.768896</td>\n",
       "      <td>1.000000</td>\n",
       "      <td>0.516846</td>\n",
       "    </tr>\n",
       "    <tr>\n",
       "      <th>episode_views</th>\n",
       "      <td>0.594384</td>\n",
       "      <td>0.655752</td>\n",
       "      <td>0.516846</td>\n",
       "      <td>1.000000</td>\n",
       "    </tr>\n",
       "  </tbody>\n",
       "</table>\n",
       "</div>"
      ],
      "text/plain": [
       "                                episode_imdb_rating  episode_imdb_votes  \\\n",
       "episode_imdb_rating                        1.000000            0.780556   \n",
       "episode_imdb_votes                         0.780556            1.000000   \n",
       "episode_us_viewers_in_millions             0.610862            0.768896   \n",
       "episode_views                              0.594384            0.655752   \n",
       "\n",
       "                                episode_us_viewers_in_millions  episode_views  \n",
       "episode_imdb_rating                                   0.610862       0.594384  \n",
       "episode_imdb_votes                                    0.768896       0.655752  \n",
       "episode_us_viewers_in_millions                        1.000000       0.516846  \n",
       "episode_views                                         0.516846       1.000000  "
      ]
     },
     "execution_count": 72,
     "metadata": {},
     "output_type": "execute_result"
    }
   ],
   "source": [
    "exec(clean_code)\n",
    "correlation_analysis(episode_stats)"
   ]
  },
  {
   "cell_type": "markdown",
   "metadata": {},
   "source": [
    "####   Justificativa dos Prompts\n",
    "\n",
    "De forma a aproveitar o prompt chaining dividimos a tarefa de realizar uma análise descritivcas das avaliações em duas tarefas. A primeira foi responsável por passar o role, a estrutura dos dados e solicitar a criação de análise que identificasse a relação entre os ratings e a audiência. No segundo prompt solicitamos que a partir das análises criadas, o LLM retornasse os códigos Python para que pudessem ser executados."
   ]
  },
  {
   "cell_type": "markdown",
   "metadata": {},
   "source": [
    "## Questão 6"
   ]
  },
  {
   "cell_type": "markdown",
   "metadata": {},
   "source": [
    "### 6.1"
   ]
  },
  {
   "cell_type": "code",
   "execution_count": 81,
   "metadata": {},
   "outputs": [
    {
     "data": {
      "text/plain": [
       "92016                                               ...ead.\n",
       "54647     John Travolta flew me in his jet. Now I have t...\n",
       "130053             Fine. Fur's murder. Everything's murder.\n",
       "76582                            Heh, heh, they're trapped.\n",
       "47560                           No, that was not the thing.\n",
       "140335                                                  NaN\n",
       "152826    What! You did! Well, that's just... oh, what a...\n",
       "104688                          Allow me to demonstri-care.\n",
       "46688                                                   NaN\n",
       "100447    Dad, he's not the real Santa. We can't afford ...\n",
       "110498                Homer? It's your old roommate, Grady.\n",
       "36388                                          No, I'm not.\n",
       "141944                                   But our cushion...\n",
       "136456    What? What? You're interesting. Why would you ...\n",
       "8336                                                    NaN\n",
       "148327                 Dad, that's my fourth grade teacher!\n",
       "36543     Yes, for a minimal franchise fee, you'll recei...\n",
       "128160    It's more fun to play with a ball of yarn if i...\n",
       "79528                        Move the net under the window.\n",
       "14937                                          You're mean.\n",
       "51470                          The man knows what he likes.\n",
       "78659     On today's royal agenda, digging up dirt clods...\n",
       "31500     Not so fast, Simpson. This foul business was a...\n",
       "30313     Oh man, is it hot in here! I better take off m...\n",
       "152754                                                  NaN\n",
       "60443                                          Aw, dang it.\n",
       "122274      Bart, sweetie... would you like to say goodbye?\n",
       "31181                                                   NaN\n",
       "50766                                                   NaN\n",
       "91748             NINETY-NINE MINUTES UNTIL WE'RE ALL SAVED\n",
       "Name: spoken_words, dtype: object"
      ]
     },
     "execution_count": 81,
     "metadata": {},
     "output_type": "execute_result"
    }
   ],
   "source": [
    "data['spoken_words'].sample(30)"
   ]
  },
  {
   "cell_type": "code",
   "execution_count": 82,
   "metadata": {},
   "outputs": [],
   "source": [
    "positivas = [\n",
    "    \"that life is worth living\",\n",
    "    \"i am the champions i am the champions no time for losers cause i am the champions of the worlllld\",\n",
    "    \"eh you must be bart simpson well you look like youve got a strong young back\"\n",
    "    \"Dad, it's not a private school. It's free\"\n",
    "    \"Oh, that does sound fun\"\n",
    "]\n",
    "\n",
    "negativas = [\n",
    "    \"i dont think theres anything left to say\",\n",
    "    \"we came to this retreat because i thought our marriage was in trouble but i never for a minute thought it was in this much trouble homer how can you expect me to believe\",\n",
    "    \"oh thats my brother asa he was killed in the great war held a grenade too long\"\n",
    "    \"That's horrible. How could you, Dad?\"\n",
    "    \"Not so fast, Simpson. This foul business was a\"\n",
    "]\n",
    "\n",
    "neutras = [\n",
    "    \"wheres mr bergstrom\",\n",
    "    \"would you have to do extra work\",\n",
    "    \"oh please dad i want this more than anything in the world\"\n",
    "    \"The hometown show's the big one, Homer.\"\n",
    "    \"Allow me to demonstri-care!\"\n",
    "]"
   ]
  },
  {
   "cell_type": "code",
   "execution_count": 83,
   "metadata": {},
   "outputs": [],
   "source": [
    "episode_season = 5\n",
    "episode_id = 92\n",
    "Y = (data[(data.episode_season == episode_season) &\n",
    "          (data.episode_id == episode_id)].sort_values('number')\n",
    ")\n",
    "Y = Y.dropna(subset='normalized_text')"
   ]
  },
  {
   "cell_type": "code",
   "execution_count": 115,
   "metadata": {},
   "outputs": [],
   "source": [
    "few_shot_prompt = f\"\"\"   \n",
    "### Instructions:\n",
    "You are an expert in human communication and marketing, specialized in sentiment analysis.\n",
    "You have to classify lines from the simpsons show as negative, neutral and positive as defined below:\n",
    "\n",
    "- positive: happy, constructive, hopefull, joy and similar lines.\n",
    "- negative: sad, destructive, hopeless, angressive and similar lines.\n",
    "- neutral: indifferent, objetive, formal and lines classified neigher as positive or negative.\n",
    "\n",
    "### Examples:\n",
    "Some pre-classified lines from this show are listed here:\n",
    "\n",
    "#### Positive:\n",
    "{'\\n - '.join(positivas)}\n",
    "\n",
    "#### Neutral:\n",
    "{'\\n - '.join(neutras)}\n",
    "\n",
    "#### Negative:\n",
    "{'\\n - '.join(negativas)}\n",
    "\n",
    "Given this information, respond in JSON with the classification of these other lines as positive, \n",
    "negative or neutral. The response should contain only the json with the classification, without any ''\n",
    "additional information like json tag in the format of ```json\n",
    "\n",
    "### Lines:\n",
    "\n",
    "{ '\\n - '.join(Y.normalized_text.tolist()) }\n",
    "\n",
    "\n",
    "\"\"\""
   ]
  },
  {
   "cell_type": "code",
   "execution_count": 117,
   "metadata": {},
   "outputs": [
    {
     "name": "stdout",
     "output_type": "stream",
     "text": [
      "total_tokens: 2986\n",
      "\n"
     ]
    }
   ],
   "source": [
    "genai.configure(api_key=os.environ[\"GEMINI_KEY\"])\n",
    "model = genai.GenerativeModel(\"gemini-1.5-pro\")\n",
    "total_tokens = model.count_tokens('\\n - '.join(Y.normalized_text.tolist()))\n",
    "print(total_tokens)"
   ]
  },
  {
   "cell_type": "code",
   "execution_count": 118,
   "metadata": {},
   "outputs": [
    {
     "name": "stdout",
     "output_type": "stream",
     "text": [
      "```json\n",
      "{\n",
      "  \"dad weve been robbed\": \"negative\",\n",
      "  \"wake up dad wake up there was a burglar and he took my saxophone\": \"negative\",\n",
      "  \"woo hoo\": \"positive\",\n",
      "  \"and our portable tv\": \"negative\",\n",
      "  \"and my necklace\": \"negative\",\n",
      "  \"eh thats no big loss\": \"neutral\",\n",
      "  \"homer that necklace was a priceless bouvier family heirloom\": \"negative\",\n",
      "  \"oh youve probably got a whole drawer full of em\": \"neutral\",\n",
      "  \"well yes i do but theyre all heirlooms too\": \"neutral\",\n",
      "  \"the burglar even took my stamp collection\": \"negative\",\n",
      "  \"you had a stamp collection\": \"neutral\",\n",
      "  \"stamp collection haw haw\": \"negative\",\n",
      "  \"barts pain is funny but mine isnt that saxophone was my one creative outlet it was the only way i could truly express myself\": \"negative\",\n",
      "  \"shhh quiet lisa\": \"neutral\",\n",
      "  \"hey the burglar left his calling card\": \"neutral\",\n",
      "  \"you have just been robbed by the springfield cat burglar cute\": \"negative\",\n",
      "  \"hidilly ho neighboreenos\": \"neutral\",\n",
      "  \"cant talk robbed go hell\": \"negative\",\n",
      "  \"you folks got robbed too the burglar took my shroud of turin beach towels\": \"negative\",\n",
      "  \"wow its a crime wave\": \"negative\",\n",
      "  \"good lord my stormin norman commemorative plates stolen again\": \"negative\",\n",
      "  \"hey i thought i had more stuff than this\": \"negative\",\n",
      "  \"we are insured arent we mom\": \"neutral\",\n",
      "  \"homer tell your child what you bought when i sent you to town to get some insurance\": \"negative\",\n",
      "  \"curse you magic beans\": \"negative\",\n",
      "  \"oh stop blaming the beans\": \"neutral\",\n",
      "  \"hello police are you sitting down good i wish to report a robbery\": \"negative\",\n",
      "  \"a robbery right thanks for the report\": \"neutral\",\n",
      "  \"another one lou 723 evergreen terrace\": \"neutral\",\n",
      "  \"well there doesnt seem to be any pattern yet but if i take this one and move it here and move these over here hello it almost looks like an arrow\": \"neutral\",\n",
      "  \"hey look chief its pointing right at this police station\": \"neutral\",\n",
      "  \"lets get outta here\": \"neutral\",\n",
      "  \"when cat burglaries start can mass murders be far behind this reporter isnt saying that the burglar is an inhuman monster like the wolfman but he very well could be\": \"negative\",\n",
      "  \"so professor would you say its time for everyone to panic\": \"negative\",\n",
      "  \"yes i would kent\": \"negative\",\n",
      "  \"ladies and gentlemen ladies and gentlemen please we have a major break in the case we recovered the burglars handkerchief from one of the crime scenes now one sniff of this baby and our tracking dog will be hot on his trail gosh look at me im sweating like a pig here\": \"positive\",\n",
      "  \"ahhh aw man thats better\": \"positive\",\n",
      "  \"alright get the scent boy come on get the scent now kill go on\": \"negative\",\n",
      "  \"ow my jugular any questions\": \"negative\",\n",
      "  \"well as you can see when the burglar trips the alarm the house raises from its foundations and runs down the street and around a corner to safety\": \"neutral\",\n",
      "  \"well the the real humans wont uh wont burn quite so fast there\": \"negative\",\n",
      "  \"cool high-tech security system\": \"positive\",\n",
      "  \"alright free laserium all the colors of the bow man\": \"positive\",\n",
      "  \"my cataracts are gone i can see again all the beauty of nat\": \"positive\",\n",
      "  \"im blind oh well easy come easy go\": \"negative\",\n",
      "  \"its the cat burglar please dont kill me\": \"negative\",\n",
      "  \"abe can i use your ointment\": \"neutral\",\n",
      "  \"oh its you molloy alright but this time clean off the applicator\": \"neutral\",\n",
      "  \"thank you for coming ill see you in hell\": \"negative\",\n",
      "  \"alright these are our new family security rules be home before dark and make sure youre not followed lock all doors and windows\": \"neutral\",\n",
      "  \"and dont take candy from strangers\": \"neutral\",\n",
      "  \"marge theyre only human\": \"neutral\",\n",
      "  \"whats the point of all these precautions ive already lost the only thing that matters to me\": \"negative\",\n",
      "  \"oh lisa stop pining for your saxophone i got you another instrument\": \"neutral\",\n",
      "  \"what this jug\": \"neutral\",\n",
      "  \"lisa never ever stop in the middle of a hoe-down\": \"negative\",\n",
      "  \"aw honey i didnt realize how much that horn meant to you dont worry daddys gonna get it back i dont know how but ill figure out something\": \"positive\",\n",
      "  \"thank you\": \"positive\",\n",
      "  \"you know lisa music helps daddy think\": \"positive\",\n",
      "  \"welcome neighbors since the police cant seem to get off their dufferoonies to do something about this burglarino i think its time we start our own neighborhood watch arooni\": \"negative\",\n",
      "  \"now who should lead the group\": \"neutral\",\n",
      "  \"you\": \"neutral\",\n",
      "  \"yeah flanders flanders flanders\": \"neutral\",\n",
      "  \"i dont really have very much experience but ill be---\": \"neutral\",\n",
      "  \"someone else\": \"neutral\",\n",
      "  \"yeah someone else someone else someone else\": \"neutral\",\n",
      "  \"im someone else\": \"neutral\",\n",
      "  \"hes right\": \"neutral\",\n",
      "  \"we dont need a thinker we need a doer someone wholl act without considering the consequences\": \"neutral\",\n",
      "  \"homer homer homer\": \"neutral\",\n",
      "  \"im with you homer\": \"positive\",\n",
      "  \"i be with ya too matey\": \"positive\",\n",
      "  \"im with you homer\": \"positive\",\n",
      "  \"youre the man homer\": \"positive\",\n",
      "  \"youre so good\": \"positive\",\n",
      "  \"youre the man man\": \"positive\",\n",
      "  \"ill join im filled with piss and vinegar at first i was just filled with vinegar\": \"neutral\",\n",
      "  \"sorry dad youre too old\": \"negative\",\n",
      "  \"too old why that just means i have experience who chased the irish out of springfield village in ought four me thats who\": \"neutral\",\n",
      "  \"and a fine job ye did too\": \"positive\",\n",
      "  \"aw dad youve done a lot of great things but youre a very old man now and old people are useless arent they arent they huh yes they are yes they are\": \"negative\",\n",
      "  \"stop it its a form of abuse\": \"negative\",\n",
      "  \"i dont think the guns are a good idea homer\": \"negative\",\n",
      "  \"marge were responsible adults and\": \"neutral\",\n",
      "  \"oops\": \"negative\",\n",
      "  \"and if a group of responsible adults cant handle firearms in a responsible way\": \"negative\",\n",
      "  \"sorry\": \"negative\",\n",
      "  \"uh-oh\": \"negative\",\n",
      "  \"me again\": \"neutral\",\n",
      "  \"sorry\": \"negative\",\n",
      "  \"okay weve got the secret vigilante handshake now we need code names ill be cueball skinner can be eightball barney will be twelveball and moe you can be cueball\": \"neutral\",\n",
      "  \"youre an idiot\": \"negative\",\n",
      "  \"so wedding huh\": \"neutral\",\n",
      "  \"no were forming a vigilante group\": \"neutral\",\n",
      "  \"come with me\": \"neutral\",\n",
      "  \"see its a miniature version of the a-bomb the government built it in the fifties to drop on beatniks\": \"negative\",\n",
      "  \"radiant cool crazy nightmare zen new jersey nowhere\": \"negative\",\n",
      "  \"put this in your pipe and smoke it\": \"negative\",\n",
      "  \"how now brown bureaucrats\": \"negative\",\n",
      "  \"woo hoo woo hoo hoo hoo\": \"positive\",\n",
      "  \"woo hoo hoo take that maynard g krebs\": \"negative\",\n",
      "  \"hey see this sign\": \"neutral\",\n",
      "  \"sorry\": \"negative\",\n",
      "  \"okay men its time to clean up this town\": \"positive\",\n",
      "  \"meaning what exactly\": \"neutral\",\n",
      "  \"you know push people around make ourselves feel big\": \"negative\",\n",
      "  \"bart give me that megaphone of yours\": \"neutral\",\n",
      "  \"its not just a megaphone dad its a rapmaster 2000\": \"neutral\",\n",
      "  \"never mind the commercials just give it to me ive got to whip this neighborhood into shape\": \"neutral\",\n",
      "  \"move along there\": \"neutral\",\n",
      "  \"its hammer\": \"neutral\",\n",
      "  \"return to your homes and places of businesses\": \"neutral\",\n",
      "  \"hey you whered you get that saxophone\": \"neutral\",\n",
      "  \"sears\": \"neutral\",\n",
      "  \"get him\": \"negative\",\n",
      "  \"no burning leaves without a permit\": \"negative\",\n",
      "  \"i got one\": \"neutral\",\n",
      "  \"too late\": \"negative\",\n",
      "  \"you better have a good reason for doing that boy\": \"negative\",\n",
      "  \"it makes me feel like a big man\": \"positive\",\n",
      "  \"let me check my reason list\": \"neutral\",\n",
      "  \"yep its on here\": \"neutral\",\n",
      "  \"hey youre that drunken posse wow can i join you\": \"neutral\",\n",
      "  \"i dunno can you swing a sack of door knobs\": \"neutral\",\n",
      "  \"can i\": \"neutral\",\n",
      "  \"youre in heres the sack\": \"neutral\",\n",
      "  \"but you gotta supply your own knobs\": \"neutral\",\n",
      "  \"so i said to him look buddy your car was upside down when we got here and as for your grandma she shouldnt have mouthed off like that\": \"negative\",\n",
      "  \"dad dont you see youre abusing your power like all vigilantes i mean if youre the police who will police the police\": \"negative\",\n",
      "  \"i unno coast guard\": \"neutral\",\n",
      "  \"homer wasnt the whole point to catch the cat burglar\": \"negative\",\n",
      "  \"and i still dont have my saxophone\": \"negative\",\n",
      "  \"lisa the mob is working on getting your saxophone back but weve also expanded into other important areas\": \"positive\",\n",
      "  \"literacy programs preserving our beloved covered bridges world domination\": \"positive\",\n",
      "  \"world domination\": \"negative\",\n",
      "  \"oh that might be a typo\": \"neutral\",\n",
      "  \"mental note the girl knows too much\": \"negative\",\n",
      "  \"mr simpson how do you respond to the charge that petty vandalism such as graffiti is down 80 percent while heavy sack beatings are up a shocking 900 percent\": \"negative\",\n",
      "  \"aw people can come up with statistics to prove anything kent forty percent of all people know that\": \"neutral\",\n",
      "  \"i see well what do you say to the accusation that your group has been causing more crimes than its been preventing\": \"negative\",\n",
      "  \"oh kent id be lying if i said my men werent committing crimes\": \"negative\",\n",
      "  \"touché\": \"neutral\",\n",
      "  \"well it looks like we have our first caller and i mean ever because this is not a call-in show hello youre on the air\": \"neutral\",\n",
      "  \"hello kent hello homer my arch nemesis\": \"negative\",\n",
      "  \"yello\": \"neutral\",\n",
      "  \"uh you do realize who this is\": \"neutral\",\n",
      "  \"uh marge\": \"neutral\",\n",
      "  \"no homer im not your wife although i do enjoy her pearls as a matter of fact im holding them right now listen\": \"negative\",\n",
      "  \"why you monster and you have my daughters saxophone too\": \"negative\",\n",
      "  \"homer thats our stage manager\": \"neutral\",\n",
      "  \"oh sorry im a little nervous\": \"negative\",\n",
      "  \"it may interest you to know that for my next crime ill be pinching the pride and joy of the springfield museum the worlds largest cubic zirconia\": \"negative\",\n",
      "  \"listen mr cat burglar i vow to go without sleep and guard the springfield museum day and night for as long as it takes from now on unless you want to taunt me more by giving me an approximate time\": \"neutral\",\n",
      "  \"well be right back\": \"neutral\",\n",
      "  \"i get to say that\": \"neutral\",\n",
      "  \"son we wanna help you catch that plug-ugly-yegg\": \"positive\",\n",
      "  \"dad the best way for you to help is to set a good example just stand around and dont steal anything\": \"neutral\",\n",
      "  \"hey\": \"neutral\",\n",
      "  \"were on our break\": \"neutral\",\n",
      "  \"any sign of the burglar yet\": \"neutral\",\n",
      "  \"hell show\": \"neutral\",\n",
      "  \"hows that\": \"neutral\",\n",
      "  \"its his job\": \"neutral\",\n",
      "  \"hows that\": \"neutral\",\n",
      "  \"hes a burglar\": \"negative\",\n",
      "  \"well mr cat burglar youd like to get in here wouldnt you theres just one little problem thirty-six years ago some lady gave birth to a man named homer j sim -- oh my god underage kids drinking beer without a permit\": \"negative\",\n",
      "  \"chug chug chug chug chug\": \"neutral\",\n",
      "  \"asleep at the switch i wasnt asleep i was drunk\": \"negative\",\n",
      "  \"i believe you dad\": \"positive\",\n",
      "  \"well no matter what the paper says i still have a job to do\": \"positive\",\n",
      "  \"go home simpson\": \"negative\",\n",
      "  \"you let me down man now i dont believe in nothing no more im going to law school\": \"negative\",\n",
      "  \"nooooo\": \"negative\",\n",
      "  \"dad maybe this will cheer you up\": \"positive\",\n",
      "  \"oh this doesnt work any more\": \"negative\",\n",
      "  \"i didnt say stop\": \"negative\",\n",
      "  \"oh my i had no idea how much this town loved that zirconia\": \"positive\",\n",
      "  \"let me through coming through\": \"neutral\",\n",
      "  \"oh grampa they pelted you too\": \"negative\",\n",
      "  \"no actually i fell down at the big boy\": \"negative\",\n",
      "  \"son ive come to help you i know who the cat burglar is\": \"positive\",\n",
      "  \"what who huh what\": \"neutral\",\n",
      "  \"well well well before i was too old and no one wanted my help suddenly look who comes to old grampa for--wait wherere you going\": \"negative\",\n",
      "  \"come back ill tell you\": \"neutral\",\n",
      "  \"he was right under my nose the whole time he lives in my retirement home his name is molloy\": \"neutral\",\n",
      "  \"wow howd you track him down grampa\": \"positive\",\n",
      "  \"good question\": \"neutral\",\n",
      "  \"on one of my frequent trips to the ground i noticed molloy wore sneakers\": \"neutral\",\n",
      "  \"for sneaking my next clue came just yesterday at the museum we felt slighted by your age-bashing and started home\": \"negative\",\n",
      "  \"molloy said ill catch up with you\": \"neutral\",\n",
      "  \"i couldnt quite put my finger on it there was something strange about the way he walked much more vertical than usual and finally molloy unlike most retired people has the worlds largest cubic zirconia on his coffee table\": \"neutral\",\n",
      "  \"aw dad i could kiss you\": \"positive\",\n",
      "  \"well kiss me right here its the only part that still has feeling\": \"negative\",\n",
      "  \"no wait i know where the burglar is\": \"neutral\",\n",
      "  \"to the retirement home\": \"neutral\",\n",
      "  \"hooray\": \"positive\",\n",
      "  \"and there she is the worlds largest cubic zirconia\": \"neutral\",\n",
      "  \"what an eyesore\": \"negative\",\n",
      "  \"so mr molloy it seems that the cat has been caught by the very person that was trying to catch him\": \"neutral\",\n",
      "  \"how ironic\": \"neutral\",\n",
      "  \"homer old chum well done if anyone was going to catch me im glad it was you\": \"positive\",\n",
      "  \"actually it wasnt me it was my dad grampa\": \"neutral\",\n",
      "  \"thanks son so you see old people arent so useless after all molloys old and he outsmarted the lot of ya and im even older and i outsmarted him\": \"positive\",\n",
      "  \"shut up\": \"negative\",\n",
      "  \"ive had my moment\": \"positive\",\n",
      "  \"and of course im happy to return all of your treasured possessions\": \"positive\",\n",
      "  \"selma my dear your lock of macgyvers hair\": \"positive\",\n",
      "  \"thank you ill add it to the ball\": \"neutral\",\n",
      "  \"and little lisa heres your saxophone\": \"positive\",\n",
      "  \"thank you and thank you dad you got it back just like you said you would\": \"positive\",\n",
      "  \"i sincerely regret any inconvenience i may have caused and although i have stolen your material goods let me assure you that your dear town has stolen my heart\": \"positive\",\n",
      "  \"awwwww\": \"positive\",\n",
      "  \"oh hes so charming\": \"positive\",\n",
      "  \"lets let him go\": \"positive\",\n",
      "  \"yeah\": \"positive\",\n",
      "  \"oh sorry folks gee i really hate to spoil this little love-in but mr molloy broke the law and when you break the law you gotta go to jail\": \"negative\",\n",
      "  \"uh that reminds me uh heres your monthly kickback\": \"negative\",\n",
      "  \"you just you couldnt have picked a worse time\": \"negative\",\n",
      "  \"i caught the cat burglar i caught the cat burglar that means you you are the cat burglar\": \"negative\",\n",
      "  \"i suppose youre wondering where i hid all the millions of dollars i stole over the years\": \"neutral\",\n",
      "  \"shut up\": \"negative\",\n",
      "  \"oh wait a minute maybe we should uh hear him out whered you hide the loot molloy\": \"neutral\",\n",
      "  \"its buried right here in springfield under a big t\": \"neutral\",\n",
      "  \"no kidding\": \"neutral\",\n",
      "  \"big t huh\": \"neutral\",\n",
      "  \"well i guess ill be going to my home now and sleep\": \"neutral\",\n",
      "  \"yeah me too i will also go home for sleep\": \"neutral\",\n",
      "  \"lemme through i gotta find a big t theres millions of dollars buried under a big t\": \"neutral\",\n",
      "  \"we need more information\": \"neutral\",\n",
      "  \"its buried at 4723 maple valley road\": \"neutral\",\n",
      "  \"ah you take highway 201 south for 15 minutes take a left at the left\": \"neutral\",\n",
      "  \"oh that was fun ladies\": \"positive\",\n",
      "  \"whatsa matter with you kid you told me the stream was shallow why you oh kid ill kill you\": \"negative\",\n",
      "  \"hordes of panicky people seem to be evacuating the town for some unknown reason professor without knowing precisely what the danger is would you say its time for our viewers to crack each others heads open and feast on the goo inside\": \"negative\",\n",
      "  \"yes i would kent\": \"negative\",\n",
      "  \"whoa i found something\": \"positive\",\n",
      "  \"its just a piece of paper\": \"negative\",\n",
      "  \"its mine\": \"neutral\",\n",
      "  \"frightfully sorry but there is no hidden treasure i have already used this time to escape from your jail fondest wishes oh i cant make out this signature\": \"negative\",\n",
      "  \"keep digging were bound to find something\": \"positive\",\n",
      "  \"hmmm i guess were not gonna find anything\": \"negative\",\n",
      "  \"uh howre we gonna get outta here\": \"neutral\",\n",
      "  \"well dig our way out\": \"neutral\",\n",
      "  \"no no dig up stupid\": \"negative\"\n",
      "}\n",
      "```\n"
     ]
    }
   ],
   "source": [
    "response = model.generate_content(few_shot_prompt)\n",
    "print(response.text)"
   ]
  },
  {
   "cell_type": "code",
   "execution_count": 126,
   "metadata": {},
   "outputs": [
    {
     "data": {
      "text/html": [
       "<div>\n",
       "<style scoped>\n",
       "    .dataframe tbody tr th:only-of-type {\n",
       "        vertical-align: middle;\n",
       "    }\n",
       "\n",
       "    .dataframe tbody tr th {\n",
       "        vertical-align: top;\n",
       "    }\n",
       "\n",
       "    .dataframe thead th {\n",
       "        text-align: right;\n",
       "    }\n",
       "</style>\n",
       "<table border=\"1\" class=\"dataframe\">\n",
       "  <thead>\n",
       "    <tr style=\"text-align: right;\">\n",
       "      <th></th>\n",
       "      <th>Text</th>\n",
       "      <th>Sentiment</th>\n",
       "    </tr>\n",
       "  </thead>\n",
       "  <tbody>\n",
       "    <tr>\n",
       "      <th>0</th>\n",
       "      <td>dad weve been robbed</td>\n",
       "      <td>negative</td>\n",
       "    </tr>\n",
       "    <tr>\n",
       "      <th>1</th>\n",
       "      <td>wake up dad wake up there was a burglar and he...</td>\n",
       "      <td>negative</td>\n",
       "    </tr>\n",
       "    <tr>\n",
       "      <th>2</th>\n",
       "      <td>woo hoo</td>\n",
       "      <td>positive</td>\n",
       "    </tr>\n",
       "    <tr>\n",
       "      <th>3</th>\n",
       "      <td>and our portable tv</td>\n",
       "      <td>negative</td>\n",
       "    </tr>\n",
       "    <tr>\n",
       "      <th>4</th>\n",
       "      <td>and my necklace</td>\n",
       "      <td>negative</td>\n",
       "    </tr>\n",
       "    <tr>\n",
       "      <th>...</th>\n",
       "      <td>...</td>\n",
       "      <td>...</td>\n",
       "    </tr>\n",
       "    <tr>\n",
       "      <th>233</th>\n",
       "      <td>keep digging were bound to find something</td>\n",
       "      <td>positive</td>\n",
       "    </tr>\n",
       "    <tr>\n",
       "      <th>234</th>\n",
       "      <td>hmmm i guess were not gonna find anything</td>\n",
       "      <td>negative</td>\n",
       "    </tr>\n",
       "    <tr>\n",
       "      <th>235</th>\n",
       "      <td>uh howre we gonna get outta here</td>\n",
       "      <td>neutral</td>\n",
       "    </tr>\n",
       "    <tr>\n",
       "      <th>236</th>\n",
       "      <td>well dig our way out</td>\n",
       "      <td>neutral</td>\n",
       "    </tr>\n",
       "    <tr>\n",
       "      <th>237</th>\n",
       "      <td>no no dig up stupid</td>\n",
       "      <td>negative</td>\n",
       "    </tr>\n",
       "  </tbody>\n",
       "</table>\n",
       "<p>238 rows × 2 columns</p>\n",
       "</div>"
      ],
      "text/plain": [
       "                                                  Text Sentiment\n",
       "0                                 dad weve been robbed  negative\n",
       "1    wake up dad wake up there was a burglar and he...  negative\n",
       "2                                              woo hoo  positive\n",
       "3                                  and our portable tv  negative\n",
       "4                                      and my necklace  negative\n",
       "..                                                 ...       ...\n",
       "233          keep digging were bound to find something  positive\n",
       "234          hmmm i guess were not gonna find anything  negative\n",
       "235                   uh howre we gonna get outta here   neutral\n",
       "236                               well dig our way out   neutral\n",
       "237                                no no dig up stupid  negative\n",
       "\n",
       "[238 rows x 2 columns]"
      ]
     },
     "execution_count": 126,
     "metadata": {},
     "output_type": "execute_result"
    }
   ],
   "source": [
    "clean_response= response.text.replace(\"```json\\n\",'').replace(\"\\n```\",'')\n",
    "classification = json.loads(clean_response)\n",
    "\n",
    "classification_df = pd.DataFrame(list(classification.items()), columns=['Text', 'Sentiment'])\n",
    "classification_df"
   ]
  },
  {
   "cell_type": "markdown",
   "metadata": {},
   "source": [
    "### 6.2"
   ]
  },
  {
   "cell_type": "code",
   "execution_count": 130,
   "metadata": {},
   "outputs": [
    {
     "data": {
      "text/plain": [
       "Sentiment\n",
       "neutral     0.449580\n",
       "negative    0.365546\n",
       "positive    0.184874\n",
       "Name: proportion, dtype: float64"
      ]
     },
     "execution_count": 130,
     "metadata": {},
     "output_type": "execute_result"
    }
   ],
   "source": [
    "classification_df['Sentiment'].value_counts(normalize=True)    "
   ]
  },
  {
   "cell_type": "markdown",
   "metadata": {},
   "source": [
    "### 6.3"
   ]
  },
  {
   "cell_type": "code",
   "execution_count": 136,
   "metadata": {},
   "outputs": [
    {
     "data": {
      "text/html": [
       "<div>\n",
       "<style scoped>\n",
       "    .dataframe tbody tr th:only-of-type {\n",
       "        vertical-align: middle;\n",
       "    }\n",
       "\n",
       "    .dataframe tbody tr th {\n",
       "        vertical-align: top;\n",
       "    }\n",
       "\n",
       "    .dataframe thead th {\n",
       "        text-align: right;\n",
       "    }\n",
       "</style>\n",
       "<table border=\"1\" class=\"dataframe\">\n",
       "  <thead>\n",
       "    <tr style=\"text-align: right;\">\n",
       "      <th></th>\n",
       "      <th>Text</th>\n",
       "      <th>Sentiment</th>\n",
       "    </tr>\n",
       "  </thead>\n",
       "  <tbody>\n",
       "    <tr>\n",
       "      <th>207</th>\n",
       "      <td>awwwww</td>\n",
       "      <td>positive</td>\n",
       "    </tr>\n",
       "    <tr>\n",
       "      <th>205</th>\n",
       "      <td>thank you and thank you dad you got it back ju...</td>\n",
       "      <td>positive</td>\n",
       "    </tr>\n",
       "    <tr>\n",
       "      <th>172</th>\n",
       "      <td>oh my i had no idea how much this town loved t...</td>\n",
       "      <td>positive</td>\n",
       "    </tr>\n",
       "    <tr>\n",
       "      <th>191</th>\n",
       "      <td>hooray</td>\n",
       "      <td>positive</td>\n",
       "    </tr>\n",
       "    <tr>\n",
       "      <th>78</th>\n",
       "      <td>and a fine job ye did too</td>\n",
       "      <td>positive</td>\n",
       "    </tr>\n",
       "  </tbody>\n",
       "</table>\n",
       "</div>"
      ],
      "text/plain": [
       "                                                  Text Sentiment\n",
       "207                                             awwwww  positive\n",
       "205  thank you and thank you dad you got it back ju...  positive\n",
       "172  oh my i had no idea how much this town loved t...  positive\n",
       "191                                             hooray  positive\n",
       "78                           and a fine job ye did too  positive"
      ]
     },
     "execution_count": 136,
     "metadata": {},
     "output_type": "execute_result"
    }
   ],
   "source": [
    "positive =  classification_df[classification_df['Sentiment'] == 'positive'].sample(5, random_state=23)\n",
    "positive"
   ]
  },
  {
   "cell_type": "code",
   "execution_count": 137,
   "metadata": {},
   "outputs": [
    {
     "data": {
      "text/html": [
       "<div>\n",
       "<style scoped>\n",
       "    .dataframe tbody tr th:only-of-type {\n",
       "        vertical-align: middle;\n",
       "    }\n",
       "\n",
       "    .dataframe tbody tr th {\n",
       "        vertical-align: top;\n",
       "    }\n",
       "\n",
       "    .dataframe thead th {\n",
       "        text-align: right;\n",
       "    }\n",
       "</style>\n",
       "<table border=\"1\" class=\"dataframe\">\n",
       "  <thead>\n",
       "    <tr style=\"text-align: right;\">\n",
       "      <th></th>\n",
       "      <th>Text</th>\n",
       "      <th>Sentiment</th>\n",
       "    </tr>\n",
       "  </thead>\n",
       "  <tbody>\n",
       "    <tr>\n",
       "      <th>115</th>\n",
       "      <td>you better have a good reason for doing that boy</td>\n",
       "      <td>negative</td>\n",
       "    </tr>\n",
       "    <tr>\n",
       "      <th>4</th>\n",
       "      <td>and my necklace</td>\n",
       "      <td>negative</td>\n",
       "    </tr>\n",
       "    <tr>\n",
       "      <th>127</th>\n",
       "      <td>homer wasnt the whole point to catch the cat b...</td>\n",
       "      <td>negative</td>\n",
       "    </tr>\n",
       "    <tr>\n",
       "      <th>234</th>\n",
       "      <td>hmmm i guess were not gonna find anything</td>\n",
       "      <td>negative</td>\n",
       "    </tr>\n",
       "    <tr>\n",
       "      <th>76</th>\n",
       "      <td>sorry dad youre too old</td>\n",
       "      <td>negative</td>\n",
       "    </tr>\n",
       "  </tbody>\n",
       "</table>\n",
       "</div>"
      ],
      "text/plain": [
       "                                                  Text Sentiment\n",
       "115   you better have a good reason for doing that boy  negative\n",
       "4                                      and my necklace  negative\n",
       "127  homer wasnt the whole point to catch the cat b...  negative\n",
       "234          hmmm i guess were not gonna find anything  negative\n",
       "76                             sorry dad youre too old  negative"
      ]
     },
     "execution_count": 137,
     "metadata": {},
     "output_type": "execute_result"
    }
   ],
   "source": [
    "negative =  classification_df[classification_df['Sentiment'] == 'negative'].sample(5, random_state=23)\n",
    "negative"
   ]
  },
  {
   "cell_type": "code",
   "execution_count": 138,
   "metadata": {},
   "outputs": [
    {
     "data": {
      "text/html": [
       "<div>\n",
       "<style scoped>\n",
       "    .dataframe tbody tr th:only-of-type {\n",
       "        vertical-align: middle;\n",
       "    }\n",
       "\n",
       "    .dataframe tbody tr th {\n",
       "        vertical-align: top;\n",
       "    }\n",
       "\n",
       "    .dataframe thead th {\n",
       "        text-align: right;\n",
       "    }\n",
       "</style>\n",
       "<table border=\"1\" class=\"dataframe\">\n",
       "  <thead>\n",
       "    <tr style=\"text-align: right;\">\n",
       "      <th></th>\n",
       "      <th>Text</th>\n",
       "      <th>Sentiment</th>\n",
       "    </tr>\n",
       "  </thead>\n",
       "  <tbody>\n",
       "    <tr>\n",
       "      <th>190</th>\n",
       "      <td>to the retirement home</td>\n",
       "      <td>neutral</td>\n",
       "    </tr>\n",
       "    <tr>\n",
       "      <th>118</th>\n",
       "      <td>yep its on here</td>\n",
       "      <td>neutral</td>\n",
       "    </tr>\n",
       "    <tr>\n",
       "      <th>107</th>\n",
       "      <td>its hammer</td>\n",
       "      <td>neutral</td>\n",
       "    </tr>\n",
       "    <tr>\n",
       "      <th>217</th>\n",
       "      <td>its buried right here in springfield under a b...</td>\n",
       "      <td>neutral</td>\n",
       "    </tr>\n",
       "    <tr>\n",
       "      <th>192</th>\n",
       "      <td>and there she is the worlds largest cubic zirc...</td>\n",
       "      <td>neutral</td>\n",
       "    </tr>\n",
       "  </tbody>\n",
       "</table>\n",
       "</div>"
      ],
      "text/plain": [
       "                                                  Text Sentiment\n",
       "190                             to the retirement home   neutral\n",
       "118                                    yep its on here   neutral\n",
       "107                                         its hammer   neutral\n",
       "217  its buried right here in springfield under a b...   neutral\n",
       "192  and there she is the worlds largest cubic zirc...   neutral"
      ]
     },
     "execution_count": 138,
     "metadata": {},
     "output_type": "execute_result"
    }
   ],
   "source": [
    "neutral =  classification_df[classification_df['Sentiment'] == 'neutral'].sample(5, random_state=23)\n",
    "neutral"
   ]
  },
  {
   "cell_type": "markdown",
   "metadata": {},
   "source": [
    "### 6.4"
   ]
  },
  {
   "cell_type": "code",
   "execution_count": 140,
   "metadata": {},
   "outputs": [
    {
     "data": {
      "text/plain": [
       "1.0"
      ]
     },
     "execution_count": 140,
     "metadata": {},
     "output_type": "execute_result"
    }
   ],
   "source": [
    "positive_precision = 5/5\n",
    "positive_precision"
   ]
  },
  {
   "cell_type": "code",
   "execution_count": 141,
   "metadata": {},
   "outputs": [
    {
     "data": {
      "text/plain": [
       "0.8"
      ]
     },
     "execution_count": 141,
     "metadata": {},
     "output_type": "execute_result"
    }
   ],
   "source": [
    "negative_precision = 4/(4+1)\n",
    "negative_precision"
   ]
  },
  {
   "cell_type": "code",
   "execution_count": 142,
   "metadata": {},
   "outputs": [
    {
     "data": {
      "text/plain": [
       "0.8"
      ]
     },
     "execution_count": 142,
     "metadata": {},
     "output_type": "execute_result"
    }
   ],
   "source": [
    "neutral_precision = 4/(4+1)\n",
    "neutral_precision"
   ]
  },
  {
   "cell_type": "markdown",
   "metadata": {},
   "source": [
    "### Respostas\n",
    "\n",
    "1. Foi necessária somente uma chamada uma vez que a contagem de tokens foi inferior ao limite do modelo conforme documentação em [Gemini 1.5 Pro Doc](https://ai.google.dev/pricing#1_5pro)\n",
    "\n",
    "2.  A distribuição de fala por categoria foi: Neutra 44,95%, Negativa 36,55% e Positiva 18,48%\n",
    "\n",
    "3. Com relação a acurácia, identificamos uma acurácia de 100% para as positivas e de 80% para as negativas e neutras.\n",
    "\n",
    "4. As precisões foram 100% para a classe positiva e 80% para as classes negativas e neutras\n",
    "\n"
   ]
  },
  {
   "cell_type": "markdown",
   "metadata": {},
   "source": [
    "## Questão 7"
   ]
  },
  {
   "cell_type": "code",
   "execution_count": null,
   "metadata": {},
   "outputs": [],
   "source": [
    "resumo = \"\"\"\"\n",
    "\n",
    "UM ladrão se aproxuma da caso do Homer e abre a porta. O cachorro reage mas é iludido com uma salsicha. \n",
    "Homer também é iludido por uma salsicha.\n",
    "O ladrão rouba vários objetos da casa e vai embora, saxofone, colar, coleção de selos e tv portátil.\n",
    "Todos na casa reclamam do roubo.\n",
    "O ladrão deixou um cartão  dizendo que você foi roubado pelo gatuno de springfield.\n",
    "Diversas pessoas foram roubadas na cidade.\n",
    "Homer liga para a polícia para reportar o roubo.\n",
    "Os roubos são noticiados na tv.\n",
    "A polícia encontra o lenço do ladrão em uma das casas\n",
    "\n",
    "As pessoas da cidade começam a se proteger contratando sistemas de segurança para suas casas.\n",
    "O pai do Homer se assusta com um colega achando que era um ladrão\n",
    "Homer conversa com a família sobre as novas regras de seguranca\n",
    "Homer da um vaso para Lisa em substituicao ao saxesofone roubado\n",
    "O ladrão ataca novamente.\n",
    "Os cidadãos se reúnem para que o Flanders lidere a segurança da cidade.\n",
    "Os cidadãos escolhem o Homer para a tarefa também uma vez que ele é muito impulsivo.\n",
    "Pai do Homer quer participar também mas é rejeitado por estar muito velho.\n",
    "Os cidadão se armam e criam códigos para se comunicarem.\n",
    "\n",
    "Homer busca comprar mais armas para a segurança da cidade.\n",
    "Homer empresta um megafone de bart e passa a patruhar a cidade impondo um toque de recolher e regras de segurança\n",
    "com certa truculência.\n",
    "Homer conta a familia durante o jantar sobre a patrulha.\n",
    "Lisa questiona quem vigia os vigilantes e quais os resultados obtidos.\n",
    "Homer é questionado por um jornalista sobre as ações dos vigilantes e responde que as estatísticas mentem.\n",
    "O programa do jornalista recebe uma ligação do gatuno de springfield que desafia Homer.\n",
    "O ladrão afirma que irá assaltar o museu de springfield e homer diz que irá protegê-lo\n",
    "\n",
    "Homer e seus vigilantes se posicionam para proteger o museu.\n",
    "Homer fica aguardando o ladrão no museu mas sai para impedir criancas de beberem cervejas.\n",
    "O ladrão chega e entra no museu, desliga o alarme e rouba um zircónio (diamante).\n",
    "A população da cidade critica e humilha Homer por não ter protegido o museu.\n",
    "O pai do Homer chega na casa do simpsons e diz que sabe quem é o ladrão.\n",
    "Pai do Homer diz que o ladrão mora no retiro dos idosos e chama-se Molloys.\n",
    "Pai do Homer diz que suspeito do ladrão por causa dos tenis e do modo de andar e que ele tem um zircónio.\n",
    "A população de springfield vai até o retiro e encontra o zircónio.\n",
    "Homer agradece o pai e diz que ele é um herói.\n",
    "\n",
    "\n",
    "\n",
    "\n",
    "\n",
    "\"\"\""
   ]
  },
  {
   "cell_type": "code",
   "execution_count": 167,
   "metadata": {},
   "outputs": [
    {
     "data": {
      "text/plain": [
       "362"
      ]
     },
     "execution_count": 167,
     "metadata": {},
     "output_type": "execute_result"
    }
   ],
   "source": [
    "len(resumo.split())"
   ]
  },
  {
   "cell_type": "code",
   "execution_count": null,
   "metadata": {},
   "outputs": [],
   "source": []
  }
 ],
 "metadata": {
  "kernelspec": {
   "display_name": ".venv",
   "language": "python",
   "name": "python3"
  },
  "language_info": {
   "codemirror_mode": {
    "name": "ipython",
    "version": 3
   },
   "file_extension": ".py",
   "mimetype": "text/x-python",
   "name": "python",
   "nbconvert_exporter": "python",
   "pygments_lexer": "ipython3",
   "version": "3.12.4"
  }
 },
 "nbformat": 4,
 "nbformat_minor": 2
}
