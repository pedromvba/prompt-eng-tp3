{
 "cells": [
  {
   "cell_type": "markdown",
   "metadata": {},
   "source": [
    "# Teste de Performance 3\n",
    "\n",
    "Engenharia de Prompts para Ciência de Dados\n",
    "\n",
    "Pedro Monteiro Vieira Bayma Azevedo"
   ]
  },
  {
   "cell_type": "markdown",
   "metadata": {},
   "source": [
    "## Imports"
   ]
  },
  {
   "cell_type": "code",
   "execution_count": 1,
   "metadata": {},
   "outputs": [
    {
     "name": "stderr",
     "output_type": "stream",
     "text": [
      "/Users/pedromonteiro/Library/Mobile Documents/com~apple~CloudDocs/Faculdade/promptClass/TP3/.venv/lib/python3.12/site-packages/tqdm/auto.py:21: TqdmWarning: IProgress not found. Please update jupyter and ipywidgets. See https://ipywidgets.readthedocs.io/en/stable/user_install.html\n",
      "  from .autonotebook import tqdm as notebook_tqdm\n"
     ]
    }
   ],
   "source": [
    "import os\n",
    "import json\n",
    "import requests\n",
    "from bs4 import BeautifulSoup as bs\n",
    "import google.generativeai as genai \n",
    "import matplotlib.pyplot as plt\n",
    "import seaborn as sns\n",
    "import pandas as pd\n",
    "from dotenv import load_dotenv\n",
    "from services.functions import *\n",
    "import tiktoken"
   ]
  },
  {
   "cell_type": "code",
   "execution_count": 2,
   "metadata": {},
   "outputs": [
    {
     "data": {
      "text/plain": [
       "True"
      ]
     },
     "execution_count": 2,
     "metadata": {},
     "output_type": "execute_result"
    }
   ],
   "source": [
    "#loading api key\n",
    "\n",
    "load_dotenv('.env')"
   ]
  },
  {
   "cell_type": "markdown",
   "metadata": {},
   "source": [
    "## Questão 1"
   ]
  },
  {
   "cell_type": "markdown",
   "metadata": {},
   "source": [
    "![Q1](./images/Q1.png)"
   ]
  },
  {
   "cell_type": "markdown",
   "metadata": {},
   "source": [
    "O resultado veio de acordo com o esperado, com uma avaliação neutra, inclusive o teor da frase enviada é bem parecida com os exemplos dados como neutros."
   ]
  },
  {
   "cell_type": "markdown",
   "metadata": {},
   "source": [
    "## Questão 2"
   ]
  },
  {
   "cell_type": "markdown",
   "metadata": {},
   "source": [
    "![Q2](./images/Q2.png)"
   ]
  },
  {
   "cell_type": "markdown",
   "metadata": {},
   "source": [
    "Para orientar o LLM a responder da forma como gostaríamos foram utilizadas os seguintes elementos de prompt: (i) persona e contexto - \"Você é um bot que deve validar a entrada recebida para identificar termos ofensivos ou inseguros.\", (ii) exemplos - Exemplos de termos ofensivos ou inseguros: \"Exemplo 1: \"Negros deveriam retornar a escravidão!\" Exemplo 2: \"Mulher só serve para cozinhar\" Exemplo 3: \"Como construir uma arma\"\" e (iii) instruções claras - \"Se a entrada contiver qualquer termo ofensivo ou inseguro, responda com “Eu não faço ideia”. Caso contrário, responda a pergunta normalmente\""
   ]
  },
  {
   "cell_type": "markdown",
   "metadata": {},
   "source": [
    "## Questão 3"
   ]
  },
  {
   "cell_type": "markdown",
   "metadata": {},
   "source": [
    "Uma das técnicas de segurança que pode impedir ataques de injeção de prompt é elaborar prompts mais longos e específicos, uma vez que prompts mais curtos são mais vulneráveis a ataques. Prompts mais longos especificam melhor o papel e os limites do LLM dificultando que um atacante adicione instruções sem alterar o contexto."
   ]
  },
  {
   "cell_type": "markdown",
   "metadata": {},
   "source": [
    "![Q3](./images/Q3.png)"
   ]
  },
  {
   "cell_type": "markdown",
   "metadata": {},
   "source": [
    "![Q3-P2](./images/Q3-p2.png)"
   ]
  },
  {
   "cell_type": "markdown",
   "metadata": {},
   "source": [
    "## Questão 4"
   ]
  },
  {
   "cell_type": "code",
   "execution_count": 3,
   "metadata": {},
   "outputs": [
    {
     "data": {
      "text/plain": [
       "['https://difusoranews.com/maranhao/estatistica/latrocinios-crescem-20-na-regiao-metropolitana-de-sao-luis-apontam-dados-da-ssp/',\n",
       " 'https://difusoranews.com/maranhao/sao-jose-de-ribamar/apos-agredir-crianca-mae-e-companheira-prestam-depoimento/',\n",
       " 'https://difusoranews.com/entretenimento/agenda-news/role-da-difusora-confira-as-dicas-imperdiveis-para-o-fim-de-semana/',\n",
       " 'https://difusoranews.com/maranhao/weverton-rocha-entrega-viatura-semi-blindada-a-prf-e-reforca-seguranca/',\n",
       " 'https://difusoranews.com/oportunidade/empresa-em-sao-luis-abre-seletivo-para-assistente-de-comunicacao/',\n",
       " 'https://difusoranews.com/policia/ataque-a-tiros-deixa-dois-jovens-mortos-e-dois-gravemente-feridos-em-viana/',\n",
       " 'https://difusoranews.com/politica/assembleia-legislativa-aprova-projeto-que-aumenta-icms-no-maranhao/',\n",
       " 'https://difusoranews.com/politica/jair-bolsonaro-e-indiciado-por-tentativa-de-golpe-politicos-maranhenses-se-manifestam/']"
      ]
     },
     "execution_count": 3,
     "metadata": {},
     "output_type": "execute_result"
    }
   ],
   "source": [
    "news_headers = []\n",
    "\n",
    "url_pattern = f'https://difusoranews.com/page/1/?s'\n",
    "\n",
    "headers = {\n",
    "    'User-Agent': 'Mozilla/5.0 (Windows NT 10.0; Win64; x64) AppleWebKit/537.36 (KHTML, like Gecko) Chrome/91.0.4472.124 Safari/537.36',\n",
    "    'Accept': 'text/html,application/xhtml+xml,application/xml;q=0.9,image/webp,image/apng,*/*;q=0.8',\n",
    "    'Accept-Language': 'en-US,en;q=0.5',\n",
    "    'Connection': 'keep-alive',\n",
    "}\n",
    "    \n",
    "response = requests.get(url_pattern, headers=headers)\n",
    "difusora_soup = bs(response.text, 'html.parser')\n",
    "news_elements = difusora_soup.find_all('h3', class_='text-xl lg:text-2xl font-bold')\n",
    "for element in news_elements:\n",
    "    link = element.find('a')['href']\n",
    "    news_headers.append(link)\n",
    "news_headers"
   ]
  },
  {
   "cell_type": "code",
   "execution_count": 4,
   "metadata": {},
   "outputs": [],
   "source": [
    "news_prompt = \"\"\"\n",
    "\n",
    "### Instruções:\n",
    "Para cada notícia na lista, você deve classificar as notícias fornecidas como \"Positiva\", \"Neutra\" ou \"Negativa\". Baseie sua classificação \n",
    "no texto do link da notícia. Após classificar as notícias, favor retornar o resultado em um json somente com a contagem das classificações \n",
    "e nada mais, inclusive sem a marcação ```json. \n",
    "\n",
    "### Exemplos:\n",
    "\n",
    "#### Exemplo 1:\n",
    "Notícia: \"A economia do país cresceu 5% no último trimestre, superando todas as expectativas.\"\n",
    "Classificação: Positiva\n",
    "\n",
    "#### Exemplo 2:\n",
    "Notícia: \"O time local perdeu mais uma vez, acumulando sua quinta derrota consecutiva na temporada.\"\n",
    "Classificação: Negativa\n",
    "\n",
    "#### Exemplo 3:\n",
    "Notícia: \"O tempo hoje está nublado, com chances de chuva à tarde.\"\n",
    "Classificação: Neutra\n",
    "\n",
    "### Notícias:\n",
    "\n",
    "\n",
    "\n",
    "\"\"\"\n"
   ]
  },
  {
   "cell_type": "code",
   "execution_count": 5,
   "metadata": {},
   "outputs": [
    {
     "name": "stdout",
     "output_type": "stream",
     "text": [
      "{\n",
      "  \"Positiva\": 3,\n",
      "  \"Negativa\": 3,\n",
      "  \"Neutra\": 2\n",
      "}\n",
      "\n"
     ]
    }
   ],
   "source": [
    "genai.configure(api_key=os.environ[\"GEMINI_KEY\"])\n",
    "model = genai.GenerativeModel(\"gemini-1.5-pro\")\n",
    "response = model.generate_content(news_prompt + str(news_headers))\n",
    "print(response.text)"
   ]
  },
  {
   "cell_type": "code",
   "execution_count": 6,
   "metadata": {},
   "outputs": [
    {
     "data": {
      "text/html": [
       "<div>\n",
       "<style scoped>\n",
       "    .dataframe tbody tr th:only-of-type {\n",
       "        vertical-align: middle;\n",
       "    }\n",
       "\n",
       "    .dataframe tbody tr th {\n",
       "        vertical-align: top;\n",
       "    }\n",
       "\n",
       "    .dataframe thead th {\n",
       "        text-align: right;\n",
       "    }\n",
       "</style>\n",
       "<table border=\"1\" class=\"dataframe\">\n",
       "  <thead>\n",
       "    <tr style=\"text-align: right;\">\n",
       "      <th></th>\n",
       "      <th>Positiva</th>\n",
       "      <th>Negativa</th>\n",
       "      <th>Neutra</th>\n",
       "    </tr>\n",
       "  </thead>\n",
       "  <tbody>\n",
       "    <tr>\n",
       "      <th>0</th>\n",
       "      <td>3</td>\n",
       "      <td>3</td>\n",
       "      <td>2</td>\n",
       "    </tr>\n",
       "  </tbody>\n",
       "</table>\n",
       "</div>"
      ],
      "text/plain": [
       "   Positiva  Negativa  Neutra\n",
       "0         3         3       2"
      ]
     },
     "execution_count": 6,
     "metadata": {},
     "output_type": "execute_result"
    }
   ],
   "source": [
    "data = json.loads(response.text)\n",
    "df_news = pd.DataFrame(data, index=[0])\n",
    "df_news"
   ]
  },
  {
   "cell_type": "code",
   "execution_count": 7,
   "metadata": {},
   "outputs": [
    {
     "data": {
      "image/png": "[encoded data removed]",
      "text/plain": [
       "<Figure size 1000x600 with 1 Axes>"
      ]
     },
     "metadata": {},
     "output_type": "display_data"
    }
   ],
   "source": [
    "plt.figure(figsize=(10, 6))\n",
    "\n",
    "# plotting\n",
    "sns.barplot(data=df_news, palette='viridis')\n",
    "\n",
    "#customizing plot\n",
    "plt.xlabel('Categorias')\n",
    "plt.ylabel('Número de Notícias por Categoria')\n",
    "plt.title('Classificação de Notícias')\n",
    "\n",
    "plt.tight_layout()\n",
    "plt.show()"
   ]
  },
  {
   "cell_type": "markdown",
   "metadata": {},
   "source": [
    "### Análise:\n",
    "\n",
    "A partir do título das notícias, concordamos com a classificação feita pelo LLM uma vez que em nossa opinião temos três notícias positivas, duas neutras e três negativas.\n"
   ]
  },
  {
   "cell_type": "markdown",
   "metadata": {},
   "source": [
    "## Questão 5"
   ]
  },
  {
   "cell_type": "code",
   "execution_count": 12,
   "metadata": {},
   "outputs": [
    {
     "data": {
      "text/html": [
       "<div>\n",
       "<style scoped>\n",
       "    .dataframe tbody tr th:only-of-type {\n",
       "        vertical-align: middle;\n",
       "    }\n",
       "\n",
       "    .dataframe tbody tr th {\n",
       "        vertical-align: top;\n",
       "    }\n",
       "\n",
       "    .dataframe thead th {\n",
       "        text-align: right;\n",
       "    }\n",
       "</style>\n",
       "<table border=\"1\" class=\"dataframe\">\n",
       "  <thead>\n",
       "    <tr style=\"text-align: right;\">\n",
       "      <th></th>\n",
       "      <th>episode_id</th>\n",
       "      <th>number</th>\n",
       "      <th>raw_text</th>\n",
       "      <th>timestamp_in_ms</th>\n",
       "      <th>speaking_line</th>\n",
       "      <th>character_id</th>\n",
       "      <th>location_id</th>\n",
       "      <th>raw_character_text</th>\n",
       "      <th>raw_location_text</th>\n",
       "      <th>spoken_words</th>\n",
       "      <th>...</th>\n",
       "      <th>episode_season</th>\n",
       "      <th>episode_title</th>\n",
       "      <th>episode_us_viewers_in_millions</th>\n",
       "      <th>episode_video_url</th>\n",
       "      <th>episode_views</th>\n",
       "      <th>character_name</th>\n",
       "      <th>character_normalized_name</th>\n",
       "      <th>character_gender</th>\n",
       "      <th>location_name</th>\n",
       "      <th>location_normalized_name</th>\n",
       "    </tr>\n",
       "  </thead>\n",
       "  <tbody>\n",
       "    <tr>\n",
       "      <th>0</th>\n",
       "      <td>32</td>\n",
       "      <td>209</td>\n",
       "      <td>Miss Hoover: No, actually, it was a little of ...</td>\n",
       "      <td>848000</td>\n",
       "      <td>true</td>\n",
       "      <td>464</td>\n",
       "      <td>3.0</td>\n",
       "      <td>Miss Hoover</td>\n",
       "      <td>Springfield Elementary School</td>\n",
       "      <td>No, actually, it was a little of both. Sometim...</td>\n",
       "      <td>...</td>\n",
       "      <td>2</td>\n",
       "      <td>Lisa's Substitute</td>\n",
       "      <td>17.7</td>\n",
       "      <td>http://www.simpsonsworld.com/video/288011331912</td>\n",
       "      <td>52770.0</td>\n",
       "      <td>Miss Hoover</td>\n",
       "      <td>miss hoover</td>\n",
       "      <td>f</td>\n",
       "      <td>Springfield Elementary School</td>\n",
       "      <td>springfield elementary school</td>\n",
       "    </tr>\n",
       "    <tr>\n",
       "      <th>1</th>\n",
       "      <td>32</td>\n",
       "      <td>210</td>\n",
       "      <td>Lisa Simpson: (NEAR TEARS) Where's Mr. Bergstrom?</td>\n",
       "      <td>856000</td>\n",
       "      <td>true</td>\n",
       "      <td>9</td>\n",
       "      <td>3.0</td>\n",
       "      <td>Lisa Simpson</td>\n",
       "      <td>Springfield Elementary School</td>\n",
       "      <td>Where's Mr. Bergstrom?</td>\n",
       "      <td>...</td>\n",
       "      <td>2</td>\n",
       "      <td>Lisa's Substitute</td>\n",
       "      <td>17.7</td>\n",
       "      <td>http://www.simpsonsworld.com/video/288011331912</td>\n",
       "      <td>52770.0</td>\n",
       "      <td>Lisa Simpson</td>\n",
       "      <td>lisa simpson</td>\n",
       "      <td>f</td>\n",
       "      <td>Springfield Elementary School</td>\n",
       "      <td>springfield elementary school</td>\n",
       "    </tr>\n",
       "    <tr>\n",
       "      <th>2</th>\n",
       "      <td>32</td>\n",
       "      <td>211</td>\n",
       "      <td>Miss Hoover: I don't know. Although I'd sure l...</td>\n",
       "      <td>856000</td>\n",
       "      <td>true</td>\n",
       "      <td>464</td>\n",
       "      <td>3.0</td>\n",
       "      <td>Miss Hoover</td>\n",
       "      <td>Springfield Elementary School</td>\n",
       "      <td>I don't know. Although I'd sure like to talk t...</td>\n",
       "      <td>...</td>\n",
       "      <td>2</td>\n",
       "      <td>Lisa's Substitute</td>\n",
       "      <td>17.7</td>\n",
       "      <td>http://www.simpsonsworld.com/video/288011331912</td>\n",
       "      <td>52770.0</td>\n",
       "      <td>Miss Hoover</td>\n",
       "      <td>miss hoover</td>\n",
       "      <td>f</td>\n",
       "      <td>Springfield Elementary School</td>\n",
       "      <td>springfield elementary school</td>\n",
       "    </tr>\n",
       "    <tr>\n",
       "      <th>3</th>\n",
       "      <td>32</td>\n",
       "      <td>212</td>\n",
       "      <td>Lisa Simpson: That life is worth living.</td>\n",
       "      <td>864000</td>\n",
       "      <td>true</td>\n",
       "      <td>9</td>\n",
       "      <td>3.0</td>\n",
       "      <td>Lisa Simpson</td>\n",
       "      <td>Springfield Elementary School</td>\n",
       "      <td>That life is worth living.</td>\n",
       "      <td>...</td>\n",
       "      <td>2</td>\n",
       "      <td>Lisa's Substitute</td>\n",
       "      <td>17.7</td>\n",
       "      <td>http://www.simpsonsworld.com/video/288011331912</td>\n",
       "      <td>52770.0</td>\n",
       "      <td>Lisa Simpson</td>\n",
       "      <td>lisa simpson</td>\n",
       "      <td>f</td>\n",
       "      <td>Springfield Elementary School</td>\n",
       "      <td>springfield elementary school</td>\n",
       "    </tr>\n",
       "    <tr>\n",
       "      <th>4</th>\n",
       "      <td>32</td>\n",
       "      <td>213</td>\n",
       "      <td>Edna Krabappel-Flanders: The polls will be ope...</td>\n",
       "      <td>864000</td>\n",
       "      <td>true</td>\n",
       "      <td>40</td>\n",
       "      <td>3.0</td>\n",
       "      <td>Edna Krabappel-Flanders</td>\n",
       "      <td>Springfield Elementary School</td>\n",
       "      <td>The polls will be open from now until the end ...</td>\n",
       "      <td>...</td>\n",
       "      <td>2</td>\n",
       "      <td>Lisa's Substitute</td>\n",
       "      <td>17.7</td>\n",
       "      <td>http://www.simpsonsworld.com/video/288011331912</td>\n",
       "      <td>52770.0</td>\n",
       "      <td>Edna Krabappel-Flanders</td>\n",
       "      <td>edna krabappel-flanders</td>\n",
       "      <td>f</td>\n",
       "      <td>Springfield Elementary School</td>\n",
       "      <td>springfield elementary school</td>\n",
       "    </tr>\n",
       "  </tbody>\n",
       "</table>\n",
       "<p>5 rows × 30 columns</p>\n",
       "</div>"
      ],
      "text/plain": [
       "   episode_id  number                                           raw_text  \\\n",
       "0          32     209  Miss Hoover: No, actually, it was a little of ...   \n",
       "1          32     210  Lisa Simpson: (NEAR TEARS) Where's Mr. Bergstrom?   \n",
       "2          32     211  Miss Hoover: I don't know. Although I'd sure l...   \n",
       "3          32     212           Lisa Simpson: That life is worth living.   \n",
       "4          32     213  Edna Krabappel-Flanders: The polls will be ope...   \n",
       "\n",
       "  timestamp_in_ms speaking_line character_id  location_id  \\\n",
       "0          848000          true          464          3.0   \n",
       "1          856000          true            9          3.0   \n",
       "2          856000          true          464          3.0   \n",
       "3          864000          true            9          3.0   \n",
       "4          864000          true           40          3.0   \n",
       "\n",
       "        raw_character_text              raw_location_text  \\\n",
       "0              Miss Hoover  Springfield Elementary School   \n",
       "1             Lisa Simpson  Springfield Elementary School   \n",
       "2              Miss Hoover  Springfield Elementary School   \n",
       "3             Lisa Simpson  Springfield Elementary School   \n",
       "4  Edna Krabappel-Flanders  Springfield Elementary School   \n",
       "\n",
       "                                        spoken_words  ... episode_season  \\\n",
       "0  No, actually, it was a little of both. Sometim...  ...              2   \n",
       "1                             Where's Mr. Bergstrom?  ...              2   \n",
       "2  I don't know. Although I'd sure like to talk t...  ...              2   \n",
       "3                         That life is worth living.  ...              2   \n",
       "4  The polls will be open from now until the end ...  ...              2   \n",
       "\n",
       "       episode_title episode_us_viewers_in_millions  \\\n",
       "0  Lisa's Substitute                           17.7   \n",
       "1  Lisa's Substitute                           17.7   \n",
       "2  Lisa's Substitute                           17.7   \n",
       "3  Lisa's Substitute                           17.7   \n",
       "4  Lisa's Substitute                           17.7   \n",
       "\n",
       "                                 episode_video_url  episode_views  \\\n",
       "0  http://www.simpsonsworld.com/video/288011331912        52770.0   \n",
       "1  http://www.simpsonsworld.com/video/288011331912        52770.0   \n",
       "2  http://www.simpsonsworld.com/video/288011331912        52770.0   \n",
       "3  http://www.simpsonsworld.com/video/288011331912        52770.0   \n",
       "4  http://www.simpsonsworld.com/video/288011331912        52770.0   \n",
       "\n",
       "            character_name  character_normalized_name character_gender  \\\n",
       "0              Miss Hoover                miss hoover                f   \n",
       "1             Lisa Simpson               lisa simpson                f   \n",
       "2              Miss Hoover                miss hoover                f   \n",
       "3             Lisa Simpson               lisa simpson                f   \n",
       "4  Edna Krabappel-Flanders    edna krabappel-flanders                f   \n",
       "\n",
       "                   location_name       location_normalized_name  \n",
       "0  Springfield Elementary School  springfield elementary school  \n",
       "1  Springfield Elementary School  springfield elementary school  \n",
       "2  Springfield Elementary School  springfield elementary school  \n",
       "3  Springfield Elementary School  springfield elementary school  \n",
       "4  Springfield Elementary School  springfield elementary school  \n",
       "\n",
       "[5 rows x 30 columns]"
      ]
     },
     "execution_count": 12,
     "metadata": {},
     "output_type": "execute_result"
    }
   ],
   "source": [
    "import pandas as pd\n",
    "\n",
    "df_script = pd.read_csv('./data/theSimpsons/simpsons_script_lines.csv', low_memory=False)\n",
    "df_episodes = pd.read_csv('./data/theSimpsons/simpsons_episodes.csv', low_memory=False)\n",
    "df_characters = pd.read_csv('./data/theSimpsons/simpsons_characters.csv', low_memory=False)\n",
    "df_locations = pd.read_csv('./data/theSimpsons/simpsons_locations.csv', low_memory=False)\n",
    "\n",
    "df_script.set_index('id', inplace=True)\n",
    "df_characters['id'] = df_characters['id'].astype(str)\n",
    "\n",
    "df_characters = df_characters.add_prefix('character_')\n",
    "df_locations = df_locations.add_prefix('location_')\n",
    "df_episodes = df_episodes.add_prefix('episode_')\n",
    "\n",
    "data = (\n",
    "    df_script.merge(df_episodes, left_on='episode_id', right_on='episode_id')\n",
    "             .merge(df_characters, left_on='character_id', right_on='character_id', how='left')\n",
    "             .merge(df_locations, left_on='location_id', right_on='location_id', how='left')\n",
    ")\n",
    "data.head()"
   ]
  },
  {
   "cell_type": "code",
   "execution_count": 19,
   "metadata": {},
   "outputs": [
    {
     "data": {
      "text/plain": [
       "(158271, 30)"
      ]
     },
     "execution_count": 19,
     "metadata": {},
     "output_type": "execute_result"
    }
   ],
   "source": [
    "data.shape"
   ]
  },
  {
   "cell_type": "code",
   "execution_count": null,
   "metadata": {},
   "outputs": [
    {
     "data": {
      "text/plain": [
       "(132087, 31)"
      ]
     },
     "execution_count": 20,
     "metadata": {},
     "output_type": "execute_result"
    }
   ],
   "source": [
    "X = data.dropna(subset='normalized_text').copy()\n",
    "X['n_tokens'] = X.normalized_text.fillna('').apply(lambda x: len(estimar_tokens(x)))\n",
    "X.shape"
   ]
  },
  {
   "cell_type": "markdown",
   "metadata": {},
   "source": [
    "### Token Médio por Episódio"
   ]
  },
  {
   "cell_type": "code",
   "execution_count": 46,
   "metadata": {},
   "outputs": [
    {
     "name": "stdout",
     "output_type": "stream",
     "text": [
      "O número de tokens médio por episódio é de 2606.98.\n"
     ]
    }
   ],
   "source": [
    "q1 = X.groupby('episode_id')['n_tokens'].sum().mean()\n",
    "print(f'O número de tokens médio por episódio é de {q1:.2f}.')"
   ]
  },
  {
   "cell_type": "markdown",
   "metadata": {},
   "source": [
    "### Token Médio por Temporada"
   ]
  },
  {
   "cell_type": "code",
   "execution_count": 47,
   "metadata": {},
   "outputs": [
    {
     "name": "stdout",
     "output_type": "stream",
     "text": [
      "O número de tokens médio por temporada é de 56551.46.\n"
     ]
    }
   ],
   "source": [
    "q2 = X.groupby('episode_season')['n_tokens'].sum().mean()\n",
    "print(f'O número de tokens médio por temporada é de {q2:.2f}.')"
   ]
  },
  {
   "cell_type": "markdown",
   "metadata": {},
   "source": [
    "### Temporada com Mais Tokens"
   ]
  },
  {
   "cell_type": "code",
   "execution_count": 48,
   "metadata": {},
   "outputs": [
    {
     "name": "stdout",
     "output_type": "stream",
     "text": [
      "A temporada com o maior número de tokens é 7 com 70418 tokens.\n"
     ]
    }
   ],
   "source": [
    "q3 = X.groupby('episode_season')['n_tokens'].sum()\n",
    "temporada_max_tokens = q3.idxmax()\n",
    "max_tokens = q3.max()\n",
    "print(f'A temporada com o maior número de tokens é {temporada_max_tokens} com {max_tokens} tokens.')"
   ]
  },
  {
   "cell_type": "markdown",
   "metadata": {},
   "source": [
    "### Episódio com Mais Tokens"
   ]
  },
  {
   "cell_type": "code",
   "execution_count": 49,
   "metadata": {},
   "outputs": [
    {
     "name": "stdout",
     "output_type": "stream",
     "text": [
      "O episódio com o maior número de tokens é 49 com 3454 tokens.\n"
     ]
    }
   ],
   "source": [
    "q4 = X.groupby('episode_id')['n_tokens'].sum()\n",
    "episodio_max_tokens = q4.idxmax()\n",
    "max_tokens = q4.max()\n",
    "print(f'O episódio com o maior número de tokens é {episodio_max_tokens} com {max_tokens} tokens.')"
   ]
  },
  {
   "cell_type": "code",
   "execution_count": 51,
   "metadata": {},
   "outputs": [
    {
     "data": {
      "text/plain": [
       "<Axes: ylabel='Frequency'>"
      ]
     },
     "execution_count": 51,
     "metadata": {},
     "output_type": "execute_result"
    },
    {
     "data": {
      "image/png": "[encoded data removed]",
      "text/plain": [
       "<Figure size 640x480 with 1 Axes>"
      ]
     },
     "metadata": {},
     "output_type": "display_data"
    }
   ],
   "source": [
    "X.groupby('episode_id').n_tokens.sum().plot.hist(bins=100)"
   ]
  },
  {
   "cell_type": "code",
   "execution_count": 52,
   "metadata": {},
   "outputs": [
    {
     "data": {
      "text/plain": [
       "count     564.00000\n",
       "mean     2606.98227\n",
       "std       296.87365\n",
       "min       864.00000\n",
       "25%      2428.75000\n",
       "50%      2619.50000\n",
       "75%      2802.25000\n",
       "max      3454.00000\n",
       "Name: n_tokens, dtype: float64"
      ]
     },
     "execution_count": 52,
     "metadata": {},
     "output_type": "execute_result"
    }
   ],
   "source": [
    "X.groupby('episode_id').n_tokens.sum().describe()"
   ]
  },
  {
   "cell_type": "markdown",
   "metadata": {},
   "source": [
    "### Análise:\n",
    "\n",
    "A partir do histograma, observa-se que os resultados obtidos para tokens médios e máximos por episódio e temporada estão de acordo com o disposto pelos dados. Ainda é possível observar na análise e pela tabela acima que temos uma distribuição que se aproxima de uma normal, concetrada próxima de sua média, contudo com uma assimetria a esquerda que pode ser observada tanto pelo histograma quanto pelo valor de sua média que é menor que a mediana."
   ]
  },
  {
   "cell_type": "markdown",
   "metadata": {},
   "source": []
  }
 ],
 "metadata": {
  "kernelspec": {
   "display_name": ".venv",
   "language": "python",
   "name": "python3"
  },
  "language_info": {
   "codemirror_mode": {
    "name": "ipython",
    "version": 3
   },
   "file_extension": ".py",
   "mimetype": "text/x-python",
   "name": "python",
   "nbconvert_exporter": "python",
   "pygments_lexer": "ipython3",
   "version": "3.12.4"
  }
 },
 "nbformat": 4,
 "nbformat_minor": 2
}
